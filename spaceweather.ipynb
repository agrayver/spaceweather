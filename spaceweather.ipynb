{
 "cells": [
  {
   "cell_type": "markdown",
   "metadata": {},
   "source": [
    "# Space Weather Prediction\n",
    "\n",
    "## Adrian Tasistro-Hart"
   ]
  },
  {
   "cell_type": "code",
   "execution_count": 6,
   "metadata": {},
   "outputs": [],
   "source": [
    "import numpy as np\n",
    "import datetime as dt"
   ]
  },
  {
   "cell_type": "markdown",
   "metadata": {},
   "source": [
    "### Load Data\n",
    "\n",
    "Let's discuss each source and the available data:\n",
    "\n",
    "**EPAM**:\n",
    "Several different detectors, each with several channels. Some of the channels have become noisy with time, which we will ignore. \n",
    "- LEMS30: 8 channels, P1-P8. P1-P6 are noisy since DOY 302, 2003. We will ignore these. This detector measures ions. \n",
    "- DE30: 4 channels, DE1-DE4. Measures electrons deflected by LEMS30.\n",
    "- CA60: 8 channels, W1-W8, but only channels W3-W8 are included. Determines ion composition unambiguously. W3 & W4: He. W5 & W6: O. W7 & W8: Fe.\n",
    "- LEFS60: 7 channels, E1'-E4' & FP5'-FP7'. Measures ions and electrons.\n",
    "- WARTD60: 4 channels, Z2, Z2A, Z3, Z4. Measures ions above certain energy thresholds. Measures integral flux.\n",
    "- LEMS120: 8 channels, P1'-P8'. Measures ions 120º from spin axis of spacecraft. \n",
    "- LEFS150: 7 channels, E1-E4, FP5-FP7. E1-E3 unusable after DOY 78, 1998, however, so we will ignore these. This detector measures electrons with energies less than about 350keV.\n",
    "\n",
    "All the data is stored in the hdf4 format. We converted it previously to binary in a Matlab notebook (ace_data_preprocess.mlx) due to the convenience of Matlab's hdf4 libraries. During conversion, we ignored channels that became noisy early in the satellite's operation (as listed above), and we also interpolated all of the time series to a constant, one minute spacing."
   ]
  },
  {
   "cell_type": "code",
   "execution_count": 7,
   "metadata": {},
   "outputs": [],
   "source": [
    "# EPAM data\n",
    "# note that time axis is in Matlab convention, which we convert here:\n",
    "def mattime2datetime(matlab_datenum):\n",
    "    python_datetime = dt.datetime.fromordinal(int(matlab_datenum)) + \\\n",
    "            dt.timedelta(days=matlab_datenum%1) - \\\n",
    "            dt.timedelta(days = 366)\n",
    "    return python_datetime"
   ]
  },
  {
   "cell_type": "code",
   "execution_count": null,
   "metadata": {},
   "outputs": [],
   "source": []
  }
 ],
 "metadata": {
  "kernelspec": {
   "display_name": "Python [conda env:anaconda]",
   "language": "python",
   "name": "conda-env-anaconda-py"
  },
  "language_info": {
   "codemirror_mode": {
    "name": "ipython",
    "version": 2
   },
   "file_extension": ".py",
   "mimetype": "text/x-python",
   "name": "python",
   "nbconvert_exporter": "python",
   "pygments_lexer": "ipython2",
   "version": "2.7.14"
  }
 },
 "nbformat": 4,
 "nbformat_minor": 2
}
