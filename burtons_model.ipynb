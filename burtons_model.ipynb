{
 "cells": [
  {
   "cell_type": "markdown",
   "metadata": {},
   "source": [
    "# Burton's Geomagnetic Storm Model\n",
    "\n",
    "This notebook will be an implementation of the algorithm outlined by [Rande Burton](https://agupubs.onlinelibrary.wiley.com/doi/abs/10.1029/JA080i031p04204) on the prediction of Dst from solar wind parameters as provided by the OMNI dataset."
   ]
  },
  {
   "cell_type": "code",
   "execution_count": 1,
   "metadata": {},
   "outputs": [],
   "source": [
    "import numpy as np\n",
    "import pandas as pd"
   ]
  },
  {
   "cell_type": "markdown",
   "metadata": {},
   "source": [
    "## Load Data\n",
    "\n",
    "Firstly, I'll need the OMNI data, since Burton's model depends entirely on the following measurements of solar wind data:\n",
    "\n",
    "- V: velocity (magnitude)\n",
    "- n: proton density\n",
    "- $B_z$: north-south component of the interplanetary magnetic field (IMF)\n",
    "\n",
    "Since I'm not dependent on continuous time series to the extent that I am with training predictive networks, I'll use the data with gaps and just ignore the gaps."
   ]
  },
  {
   "cell_type": "code",
   "execution_count": 2,
   "metadata": {},
   "outputs": [],
   "source": [
    "omni = pd.read_hdf('omni_hourly_1998-2018.h5')\n",
    "\n",
    "# let's only keep the following columns\n",
    "omni = omni[['SW Plasma Speed, km/s', 'BZ, nT (GSM)','SW Proton Density, N/cm^3', 'Dst-index, nT']]\n",
    "\n",
    "# list gaps by year for each variable and total at end\n",
    "nanvals = np.max(omni,axis=0)\n",
    "\n",
    "# replace nanval for Dst, no missing data there\n",
    "nanvals['Dst-index, nT'] = 999.9\n",
    "\n",
    "# compute gap free indices\n",
    "idx = np.ones(len(omni), dtype=bool)\n",
    "for ii, meas in enumerate(list(omni)):\n",
    "    idx = idx & (omni[meas] != nanvals[meas])\n",
    "\n",
    "# ignore gaps here\n",
    "omni = omni[idx]\n",
    "\n",
    "V = omni['SW Plasma Speed, km/s']\n",
    "Bz = omni['BZ, nT (GSM)']\n",
    "n = omni['SW Proton Density, N/cm^3']\n",
    "Dst = omni['Dst-index, nT']"
   ]
  },
  {
   "cell_type": "markdown",
   "metadata": {},
   "source": [
    "## Theory"
   ]
  },
  {
   "cell_type": "markdown",
   "metadata": {},
   "source": [
    "From the primary measurements, Burton defines the electric field $E = V\\,B_z$ and the dynamic pressure $P = n\\, V^2$."
   ]
  },
  {
   "cell_type": "code",
   "execution_count": 42,
   "metadata": {},
   "outputs": [],
   "source": [
    "E = v * bz\n",
    "P = n * v**2"
   ]
  },
  {
   "cell_type": "markdown",
   "metadata": {},
   "source": [
    "Dst is defined as the difference between the disturbance and quiet time measurements of the horizontal field component at low latitudes:\n",
    "\n",
    "$$ Dst = \\overline{H^d - H^q} $$\n",
    "\n",
    "Burton furthermore models Dst in terms of its components from the magnetopause and ring currents, which have both disturbance and quiet time components:\n",
    "\n",
    "$$ Dst = \\overline{H^d_{mp}} + \\overline{H^d_{rc}} -\\overline{H^q_{mp}} - \\overline{H^q_{rc}} $$\n",
    "\n",
    "After introducing this separation in sources, Burton then renames the ring current contribution to Dst as $Dst_0 = \\overline{H^d_{rc}}$ and posits that the quiet time contributions can be modeled as a constant $ c = \\overline{H^q_{mp}} + \\overline{H^q_{rc}}$. Finally, the magnetopause current contribution to Dst is proportional to square root of the dynamic pressure of the solar wind (see his citations), $\\overline{H^d_{mp}} = b\\,\\sqrt{P}$.\n",
    "\n",
    "Thus, the relation for $Dst_0$ can be rewritten as \n",
    "\n",
    "$$ Dst_0 = Dst - b\\,\\sqrt{P} + c$$\n",
    "\n",
    "Since $Dst_0$ is then tied to the ring current contribution, if we can model its physical relationship to the solar wind, we can reconstruct Dst entirely from solar wind measurements (assuming that we've constrained the necessary constants).\n",
    "\n",
    "Burton argues that the ring current contribution to Dst then depends on an injection term $F(E)$ dependent on the generated electric field that drives the main phase of the storm and subsequent decay, which in turn is proportional to the current ring current strength (setting up an exponential decay):\n",
    "\n",
    "$$ \\frac{d Dst_0}{dt} = F(E) - a\\,Dst_0 $$\n",
    "\n",
    "Thus, rewriting everything in terms of $Dst_0$, we can write the total time rate of change of Dst as \n",
    "\n",
    "$$ \\frac{d Dst}{dt} = -a \\left(Dst - b\\,\\sqrt{P} + c \\right) + F(E) + \\frac{d}{dt}\\left(b\\,\\sqrt{P}\\right) $$\n",
    "\n",
    "An appropriate time delay must be introduced to account for the distance between where solar wind parameters are measured and Earth's surface, but the OMNI data already account for this separation."
   ]
  },
  {
   "cell_type": "markdown",
   "metadata": {},
   "source": [
    "## Parameter Estimation\n",
    "\n",
    "Thus, the next step in forecasting Dst is determining the corresponding constants $a$, $b$, and $c$ as well as the ring current forcing $F(E)$ which will depend on the generated electric field filtered by some unknown frequency response $H(\\omega)$.\n",
    "\n",
    "Burton proceeds by considering the asymptotics of the above equation, arriving at the following values that they use for the constants:\n",
    "\n",
    "- $a = $\n",
    "- $b = 0.20 $\n",
    "- $c = 20 $\n",
    "\n",
    "I will try to recreate some of these estimates to see if they vary at all given that I have access to data gathered 40 years after the publication of their paper.\n"
   ]
  },
  {
   "cell_type": "markdown",
   "metadata": {},
   "source": [
    "### Quiet time estimation\n",
    "\n",
    "Here, I'll take the approach that assumes no ring current injection (i.e. $F(E) = 0$) and constant dynamic pressure (i.e. $\\frac{dP}{dt} = 0 $), so that the relevant equation is \n",
    "\n",
    "$$ \\frac{d Dst}{dt} = -a \\, \\left(Dst - b\\,\\sqrt{P} + c \\right) $$\n",
    "\n",
    "This expression will asymptotically approach zero, and so eventually Dst will approach the value satisfying \n",
    "\n",
    "$$ Dst - b\\,\\sqrt{P} + c = 0$$\n",
    "\n",
    "allowing us to solve for $b$ and $c$. This expression is true during quiet times, which we can isolate from the data above."
   ]
  },
  {
   "cell_type": "code",
   "execution_count": null,
   "metadata": {},
   "outputs": [],
   "source": [
    "# isolate data from quiet times\n",
    "idx = "
   ]
  }
 ],
 "metadata": {
  "kernelspec": {
   "display_name": "Python 3",
   "language": "python",
   "name": "python3"
  },
  "language_info": {
   "codemirror_mode": {
    "name": "ipython",
    "version": 3
   },
   "file_extension": ".py",
   "mimetype": "text/x-python",
   "name": "python",
   "nbconvert_exporter": "python",
   "pygments_lexer": "ipython3",
   "version": "3.6.8"
  }
 },
 "nbformat": 4,
 "nbformat_minor": 2
}
