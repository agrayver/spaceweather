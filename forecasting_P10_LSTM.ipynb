{
 "cells": [
  {
   "cell_type": "markdown",
   "metadata": {},
   "source": [
    "# First Zonal Harmonic Forecasting via LSTM\n",
    "\n",
    "In this notebook, I attempt the most basic prediction for the first zonal harmonic of the external field in response to solar activity. The zonal harmonic, $P_1^0$, is effectively what is measured by the disturbance storm time (Dst) index, except the data that I am trying to reconstruct record only the external field response, while Dst inadvertently includes the fields generated in Earth's subsurface. "
   ]
  },
  {
   "cell_type": "code",
   "execution_count": 1,
   "metadata": {},
   "outputs": [
    {
     "name": "stderr",
     "output_type": "stream",
     "text": [
      "Using TensorFlow backend.\n"
     ]
    }
   ],
   "source": [
    "# general\n",
    "import numpy as np\n",
    "from sklearn import preprocessing\n",
    "from scipy.stats import kde\n",
    "import os\n",
    "import datetime as dt\n",
    "\n",
    "# deep learning\n",
    "import tensorflow as tf\n",
    "import keras\n",
    "from keras.models import Sequential\n",
    "from keras.layers import Dense, LSTM, GRU, Dropout\n",
    "\n",
    "# file management, io\n",
    "import pandas as pd\n",
    "import h5py\n",
    "\n",
    "# plotting\n",
    "import matplotlib.pyplot as plt\n",
    "from matplotlib.ticker import FormatStrFormatter"
   ]
  },
  {
   "cell_type": "markdown",
   "metadata": {},
   "source": [
    "## Load Data\n",
    "\n",
    "Let's load the data without gaps as well as the external coefficients."
   ]
  },
  {
   "cell_type": "code",
   "execution_count": 2,
   "metadata": {},
   "outputs": [],
   "source": [
    "omni_lr = pd.read_hdf('omni_hourly_1998-2017_nogaps.h5')\n",
    "coeff = pd.read_hdf('external_coefficients.h5')"
   ]
  },
  {
   "cell_type": "markdown",
   "metadata": {},
   "source": [
    "The external coefficients report hourly values centered on every half hour, starting at 0:30 on January 1, 1998. The OMNI series, however, are centered on the hour beginning at 0:00, but contain data averaged throughout the subsequent hour (i.e. hour 0 contains data averaged from 0:00-1:00). Thus, both datasets contain data averaged within the same time bins, the bin centers are just denoted differently with the centers at the beginning of the hour for OMNI and at the middle of the hour for the external coefficient series. The external coefficient series contains one less entry than the OMNI data, suggesting that the last entry is missing, since the OMNI series goes until the very last hour of December 31, 2017 but not 0:00 January 1, 2018. While I still need to confirm this, it shouldn't make too much of a difference with these early attempts at training basic networks, so I'll just neglect the last hour of the OMNI data.\n",
    "\n",
    "Furthermore, we're only interested in the $P_1^0$ term, so let's neglect everything else and consider only the real part of the coefficient series."
   ]
  },
  {
   "cell_type": "code",
   "execution_count": 3,
   "metadata": {},
   "outputs": [],
   "source": [
    "omni_lr = omni_lr[0:-1]\n",
    "p10 = np.real(coeff['enm10']).reshape(-1,1)\n",
    "t = coeff['time']\n",
    "t_year = 2000+t/(365.25) # federico's time axis"
   ]
  },
  {
   "cell_type": "markdown",
   "metadata": {},
   "source": [
    "Finally, let's include previous values of the $P_1^0$ series in the input data, adding a column then to omni_lr."
   ]
  },
  {
   "cell_type": "code",
   "execution_count": 4,
   "metadata": {},
   "outputs": [],
   "source": [
    "omni_lr['p10'] = p10\n",
    "\n",
    "nfeatin = len(omni_lr.columns)"
   ]
  },
  {
   "cell_type": "code",
   "execution_count": 5,
   "metadata": {},
   "outputs": [
    {
     "data": {
      "image/png": "[encoded data removed]",
      "text/plain": [
       "<Figure size 576x432 with 1 Axes>"
      ]
     },
     "metadata": {},
     "output_type": "display_data"
    }
   ],
   "source": [
    "fig, ax = plt.subplots(figsize=(8,6))\n",
    "ax.plot(t_year,p10)\n",
    "ax.set_ylabel('$P_1^0$, nT')\n",
    "ax.set_xlabel('year')\n",
    "ax.xaxis.set_major_formatter(FormatStrFormatter('%d'))\n",
    "plt.grid(True)\n",
    "plt.show()"
   ]
  },
  {
   "cell_type": "markdown",
   "metadata": {},
   "source": [
    "## LSTM\n",
    "Having imported the data, let's design, train, and test the LSTM network for this prediction problem."
   ]
  },
  {
   "cell_type": "markdown",
   "metadata": {},
   "source": [
    "### Stateless architecture\n",
    "\n",
    "In this architecture, only batches of a given batch-size matter, with the LSTM's being trained exclusively on windows of data of size batch-size. "
   ]
  },
  {
   "cell_type": "code",
   "execution_count": 6,
   "metadata": {},
   "outputs": [],
   "source": [
    "\"\"\"\n",
    "From a data array with observations in rows and features in columns, split \n",
    "split into testing and training data based on which rows to use (datain_idx), \n",
    "batch_sizes, which features for prediction (incols) and which features as \n",
    "targest (outcols). Since we're concerned with time series forecasting, the \n",
    "number of steps to forecast ahead is lahead.\n",
    "\n",
    "IN:\n",
    "data_in: \n",
    "data_out: \n",
    "batch_size:\n",
    "train_percent:\n",
    "lahead:\n",
    "\n",
    "OUT:\n",
    "data_in_train:\n",
    "data_out_train:\n",
    "data_in_test:\n",
    "data_out_test:\n",
    "\n",
    " \"\"\"\n",
    "def datasplit(data_in, data_out, batch_size, train_percent=0.8, lahead=1):\n",
    "    nfeatin = data_in.shape[1]\n",
    "    \n",
    "    data_in = data_in[0:-lahead,:]\n",
    "    data_out = data_out[lahead:,:]\n",
    "    \n",
    "    nbatch = int(np.floor(data_in.shape[0]/batch_size))\n",
    "    \n",
    "    # now construct training and testing sets\n",
    "    batchrand = np.random.permutation(int(nbatch))\n",
    "    trainbatch = batchrand[0:int(train_percent*nbatch)]\n",
    "    testbatch = batchrand[int(train_percent*nbatch):]\n",
    "    \n",
    "    trainidx = np.zeros(data_in.shape[0],dtype=bool)\n",
    "    for batchidx in trainbatch:\n",
    "        trainidx[batchidx*batch_size:batch_size*(batchidx + 1)] = True\n",
    "        \n",
    "    testidx = np.zeros(data_out.shape[0],dtype=bool)\n",
    "    for batchidx in testbatch:\n",
    "        testidx[batchidx*batch_size:batch_size*(batchidx + 1)] = True\n",
    "    \n",
    "    data_in_train = data_in[trainidx,:]\n",
    "    data_out_train = data_out[trainidx,:]\n",
    "    data_in_test = data_in[testidx,:]\n",
    "    data_out_test = data_out[testidx,:]\n",
    "    return data_in_train, data_out_train, data_in_test, data_out_test\n",
    "\n",
    "\n",
    "\n",
    "\"\"\"\n",
    "Given a batch size and training data, train network on the data, and\n",
    "return the trained network\n",
    "\n",
    "IN:\n",
    "dat_in_train (np.ndarray): data inputs with shape (ndata, 1, nfeat_in)\n",
    "dat_out_train (np.ndarray): data outputs with shape (ndata, nfeat_out)\n",
    "batch_size (int/double):\n",
    "nunits (int/double): (default 400) number of hidden units in LSTM\n",
    "epochs (int): (default 100) epochs for training\n",
    "\n",
    "OUT:\n",
    "rnn (keras.Sequential): trained network\n",
    "hist ()\n",
    "\"\"\"\n",
    "def train_network(dat_in_train, dat_out_train, batch_size, nunits=500, \\\n",
    "                  epochs=100):\n",
    "    assert len(dat_in_train.shape) == 3, 'check shape of dat_in_train'\n",
    "    assert len(dat_out_train.shape) == 2, 'check shape of dat_out_train'\n",
    "    \n",
    "    nfeat_in = dat_in_train.shape[2]\n",
    "    nfeat_out = dat_out_train.shape[1]\n",
    "    \n",
    "    # recurrent architecture, create input and output datasets\n",
    "    rnn = Sequential()\n",
    "    \n",
    "    rnn.add(LSTM(nunits, \n",
    "            name='LSTM_1',\n",
    "            stateful=False,\n",
    "            input_shape=(1,nfeat_in),\n",
    "            batch_size=batch_size,\n",
    "            return_sequences=False,\n",
    "            activation='relu'))\n",
    "    rnn.add(Dropout(0.5))\n",
    "    rnn.add(Dense(nfeat_out,\n",
    "                  name='Dense'))\n",
    "    opt = keras.optimizers.RMSprop()\n",
    "    rnn.compile(loss='mse',optimizer=opt)\n",
    "    # fit model\n",
    "    hist = rnn.fit(dat_in_train,\n",
    "            dat_out_train,\n",
    "            epochs=epochs,\n",
    "            batch_size=batch_size,\n",
    "            shuffle=False,\n",
    "            verbose=1)\n",
    "    return rnn, hist"
   ]
  },
  {
   "cell_type": "markdown",
   "metadata": {},
   "source": [
    "### Stateful architecture\n",
    "\n",
    "In this architecture, we train the network on the entire series from 1998 to 2015, and then we test on 2016 and 2017. "
   ]
  },
  {
   "cell_type": "code",
   "execution_count": 7,
   "metadata": {},
   "outputs": [],
   "source": [
    "\"\"\"\n",
    "From a data array with observations in rows and features in columns, split \n",
    "split into testing and training data based on which rows to use (datain_idx), \n",
    "batch_sizes, which features for prediction (incols) and which features as \n",
    "targest (outcols). Since we're concerned with time series forecasting, the \n",
    "number of steps to forecast ahead is lahead.\n",
    "\n",
    "IN:\n",
    "data_in: \n",
    "data_out: \n",
    "batch_size:\n",
    "train_percent:\n",
    "lahead:\n",
    "\n",
    "OUT:\n",
    "data_in_train:\n",
    "data_out_train:\n",
    "data_in_test:\n",
    "data_out_test:\n",
    "\n",
    " \"\"\"\n",
    "def datasplit(data_in, data_out, batch_size, train_percent=0.8, lahead=1):\n",
    "    nfeatin = data_in.shape[1]\n",
    "    \n",
    "    data_in = data_in[0:-lahead,:]\n",
    "    data_out = data_out[lahead:,:]\n",
    "    \n",
    "    ndat = data_in.shape[0]\n",
    "    # limit for training data\n",
    "    lidx = int((train_percent*ndat)-((train_percent*ndat) % batch_size))\n",
    "    # limit for testing data\n",
    "    ridx = int(ndat - (ndat % batch_size))\n",
    "    \n",
    "    trainidx = np.zeros(ndat,dtype=bool)\n",
    "    trainidx[0:lidx] = True\n",
    "    testidx = np.zeros(ndat,dtype=bool)\n",
    "    testidx[lidx:ridx] = True\n",
    "    \n",
    "    data_in_train = data_in[trainidx,:]\n",
    "    data_out_train = data_out[trainidx,:]\n",
    "    data_in_test = data_in[testidx,:]\n",
    "    data_out_test = data_out[testidx,:]\n",
    "    return data_in_train, data_out_train, data_in_test, data_out_test\n",
    "\n",
    "\n",
    "\n",
    "\"\"\"\n",
    "Given a batch size and training data, train network on the data, and\n",
    "return the trained network\n",
    "\n",
    "IN:\n",
    "dat_in_train (np.ndarray): data inputs with shape (ndata, 1, nfeat_in)\n",
    "dat_out_train (np.ndarray): data outputs with shape (ndata, nfeat_out)\n",
    "batch_size (int/double):\n",
    "nunits (int/double): (default 400) number of hidden units in LSTM\n",
    "epochs (int): (default 100) epochs for training\n",
    "\n",
    "OUT:\n",
    "rnn (keras.Sequential): trained network\n",
    "hist ()\n",
    "\"\"\"\n",
    "def train_network(dat_in_train, dat_out_train, batch_size, nunits=200, \\\n",
    "                  epochs=100):\n",
    "    assert len(dat_in_train.shape) == 3, 'check shape of dat_in_train'\n",
    "    assert len(dat_out_train.shape) == 2, 'check shape of dat_out_train'\n",
    "    \n",
    "    nfeat_in = dat_in_train.shape[2]\n",
    "    nfeat_out = dat_out_train.shape[1]\n",
    "    \n",
    "    # recurrent architecture, create input and output datasets\n",
    "    rnn = Sequential()\n",
    "    \n",
    "    rnn.add(LSTM(nunits, \n",
    "            name='LSTM_1',\n",
    "            stateful=True,\n",
    "            input_shape=(1,nfeat_in),\n",
    "            batch_size=batch_size,\n",
    "            return_sequences=False,\n",
    "            activation='relu'))\n",
    "    rnn.add(Dense(nfeat_out,\n",
    "                  name='Dense'))\n",
    "    opt = keras.optimizers.RMSprop()\n",
    "    rnn.compile(loss='mse',optimizer=opt)\n",
    "    # fit model\n",
    "    hist = np.zeros(epochs)\n",
    "    for ii in range(epochs):\n",
    "        rnn.reset_states()\n",
    "        tmp = rnn.fit(dat_in_train,\n",
    "            dat_out_train,\n",
    "            epochs=1,\n",
    "            batch_size=batch_size,\n",
    "            shuffle=False,\n",
    "            verbose=0)\n",
    "        hist[ii] = tmp.history['loss'][0]\n",
    "        print('Epoch %d, MSE %1.2e' % (ii, hist[ii]))\n",
    "    return rnn, hist"
   ]
  },
  {
   "cell_type": "markdown",
   "metadata": {},
   "source": [
    "### Common Functions"
   ]
  },
  {
   "cell_type": "code",
   "execution_count": 8,
   "metadata": {},
   "outputs": [],
   "source": [
    "\"\"\"\n",
    "Given a trained network, evaluated it on testing data and plot the\n",
    "scatter plots.\n",
    "\n",
    "IN:\n",
    "dat_in_test (np.ndarray): data inputs with shape (ndata, 1, nfeat_in)\n",
    "dat_out_test (np.ndarray): data outputs with shape (ndata, nfeat_out)\n",
    "rnn (keras.Sequential): trained network\n",
    "batch_size (int/double):\n",
    "feature_names (list): list of names of output features, length nfeat_out\n",
    "\n",
    "OUT:\n",
    "produces plot\n",
    "\n",
    "\"\"\"\n",
    "def test_network(dat_in_test, dat_out_test, rnn, batch_size, feature_names):\n",
    "    assert len(dat_in_test.shape) == 3, 'check shape of dat_in_test'\n",
    "    assert len(dat_out_test.shape) == 2, 'check shape of dat_out_test'\n",
    "    nfeat_out = dat_out_test.shape[1]\n",
    "    rnn.reset_states()\n",
    "    dat_pred = rnn.predict(dat_in_test,batch_size=batch_size)\n",
    "    plt.figure()\n",
    "    curtest = np.concatenate((scaler_output.inverse_transform(dat_out_test),\\\n",
    "                              scaler_output.inverse_transform(dat_pred)), axis=1)\n",
    "    r2 = np.corrcoef(curtest[:,0],curtest[:,1])[0,1]**2\n",
    "    plt.scatter(curtest[:,0],curtest[:,1],marker='.')\n",
    "    k = kde.gaussian_kde(curtest.T)\n",
    "    x, y = curtest.T\n",
    "    nbins = 50\n",
    "    xi, yi = np.mgrid[x.min():x.max():nbins*1j, y.min():y.max():nbins*1j]\n",
    "    zi = k(np.vstack([xi.flatten(), yi.flatten()]))                                      \n",
    "    plt.contour(xi,yi,zi.reshape(xi.shape), 10)\n",
    "    abline(1,0)\n",
    "    plt.title('%s, $r^2$ = %1.2f' % (feature_names, r2))\n",
    "    plt.show()\n",
    "    return dat_pred\n",
    "\n",
    "\"\"\"\n",
    "Plot straight line in current axis.\n",
    "\"\"\"\n",
    "def abline(slope, intercept):\n",
    "    axes = plt.gca()\n",
    "    x_vals = np.array(axes.get_xlim())\n",
    "    y_vals = intercept + slope * x_vals\n",
    "    plt.plot(x_vals, y_vals, 'k--')"
   ]
  },
  {
   "cell_type": "markdown",
   "metadata": {},
   "source": [
    "### Split and Prepare Data\n",
    "\n",
    "Let's separate the data into training and testing sets. Let's also normalize all of the data according to the training data."
   ]
  },
  {
   "cell_type": "code",
   "execution_count": 9,
   "metadata": {},
   "outputs": [],
   "source": [
    "batch_size = 1000\n",
    "lahead = 6\n",
    "train_percent = 0.8"
   ]
  },
  {
   "cell_type": "code",
   "execution_count": 10,
   "metadata": {},
   "outputs": [],
   "source": [
    "# split\n",
    "data_in_train, data_out_train, data_in_test, data_out_test = datasplit(omni_lr.values, p10, batch_size, train_percent, lahead)\n",
    "\n",
    "# normalize\n",
    "scaler_input = preprocessing.MinMaxScaler(feature_range=(0,1))\n",
    "data_in_train = scaler_input.fit_transform(data_in_train)\n",
    "data_in_test = scaler_input.transform(data_in_test)\n",
    "\n",
    "scaler_output = preprocessing.MinMaxScaler(feature_range=(0,1))\n",
    "data_out_train = scaler_output.fit_transform(data_out_train)\n",
    "data_out_test = scaler_output.transform(data_out_test)\n",
    "\n",
    "# reshape input data\n",
    "data_in_train = data_in_train.reshape(-1,1,nfeatin)\n",
    "data_in_test = data_in_test.reshape(-1,1,nfeatin)"
   ]
  },
  {
   "cell_type": "code",
   "execution_count": 11,
   "metadata": {},
   "outputs": [
    {
     "name": "stdout",
     "output_type": "stream",
     "text": [
      "Epoch 0, MSE 4.05e-03\n",
      "Epoch 1, MSE 2.93e-03\n",
      "Epoch 2, MSE 2.36e-03\n",
      "Epoch 3, MSE 1.94e-03\n",
      "Epoch 4, MSE 1.62e-03\n",
      "Epoch 5, MSE 1.40e-03\n",
      "Epoch 6, MSE 1.23e-03\n",
      "Epoch 7, MSE 1.10e-03\n",
      "Epoch 8, MSE 9.95e-04\n",
      "Epoch 9, MSE 9.05e-04\n",
      "Epoch 10, MSE 8.31e-04\n",
      "Epoch 11, MSE 7.65e-04\n",
      "Epoch 12, MSE 7.09e-04\n",
      "Epoch 13, MSE 6.58e-04\n",
      "Epoch 14, MSE 6.15e-04\n",
      "Epoch 15, MSE 5.78e-04\n",
      "Epoch 16, MSE 5.52e-04\n",
      "Epoch 17, MSE 5.20e-04\n",
      "Epoch 18, MSE 4.92e-04\n",
      "Epoch 19, MSE 4.56e-04\n",
      "Epoch 20, MSE 4.42e-04\n",
      "Epoch 21, MSE 4.25e-04\n",
      "Epoch 22, MSE 4.17e-04\n",
      "Epoch 23, MSE 4.02e-04\n",
      "Epoch 24, MSE 3.83e-04\n",
      "Epoch 25, MSE 3.85e-04\n",
      "Epoch 26, MSE 3.56e-04\n",
      "Epoch 27, MSE 3.71e-04\n",
      "Epoch 28, MSE 3.55e-04\n",
      "Epoch 29, MSE 3.48e-04\n",
      "Epoch 30, MSE 3.41e-04\n",
      "Epoch 31, MSE 3.33e-04\n",
      "Epoch 32, MSE 3.28e-04\n",
      "Epoch 33, MSE 3.23e-04\n",
      "Epoch 34, MSE 3.17e-04\n",
      "Epoch 35, MSE 3.12e-04\n",
      "Epoch 36, MSE 3.07e-04\n",
      "Epoch 37, MSE 3.03e-04\n",
      "Epoch 38, MSE 2.98e-04\n",
      "Epoch 39, MSE 2.95e-04\n"
     ]
    },
    {
     "data": {
      "text/plain": [
       "[<matplotlib.lines.Line2D at 0x18360546898>]"
      ]
     },
     "execution_count": 11,
     "metadata": {},
     "output_type": "execute_result"
    },
    {
     "data": {
      "image/png": "[encoded data removed]",
      "text/plain": [
       "<Figure size 432x288 with 1 Axes>"
      ]
     },
     "metadata": {},
     "output_type": "display_data"
    }
   ],
   "source": [
    "rnn, hist = train_network(data_in_train, data_out_train, batch_size, epochs=40)\n",
    "plt.plot(hist)"
   ]
  },
  {
   "cell_type": "markdown",
   "metadata": {},
   "source": [
    "### Test"
   ]
  },
  {
   "cell_type": "code",
   "execution_count": 12,
   "metadata": {},
   "outputs": [
    {
     "data": {
      "image/png": "[encoded data removed]",
      "text/plain": [
       "<Figure size 432x288 with 1 Axes>"
      ]
     },
     "metadata": {},
     "output_type": "display_data"
    }
   ],
   "source": [
    "data_out_pred = test_network(data_in_test, data_out_test, rnn, batch_size,'$P_1^0$')"
   ]
  },
  {
   "cell_type": "code",
   "execution_count": null,
   "metadata": {},
   "outputs": [],
   "source": []
  }
 ],
 "metadata": {
  "kernelspec": {
   "display_name": "Python 3",
   "language": "python",
   "name": "python3"
  },
  "language_info": {
   "codemirror_mode": {
    "name": "ipython",
    "version": 3
   },
   "file_extension": ".py",
   "mimetype": "text/x-python",
   "name": "python",
   "nbconvert_exporter": "python",
   "pygments_lexer": "ipython3",
   "version": "3.6.5"
  }
 },
 "nbformat": 4,
 "nbformat_minor": 2
}
