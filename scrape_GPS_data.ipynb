{
 "cells": [
  {
   "cell_type": "markdown",
   "metadata": {},
   "source": [
    "# Scrape GPS data\n",
    "\n",
    "This notebook scrapes data from [NOAA's site](https://www.ngdc.noaa.gov/stp/space-weather/satellite-data/satellite-systems/gps/data/ns41/) for GPS satellite ns41, which Gruet et al. 2018 used in their analysis."
   ]
  },
  {
   "cell_type": "markdown",
   "metadata": {},
   "source": [
    "## Download ascii files\n",
    "\n",
    "The scraping process was led by [this tutorial](https://towardsdatascience.com/how-to-web-scrape-with-python-in-4-minutes-bc49186a8460)."
   ]
  },
  {
   "cell_type": "code",
   "execution_count": 8,
   "metadata": {},
   "outputs": [],
   "source": [
    "import requests\n",
    "import urllib.request\n",
    "import datetime as dt\n",
    "from bs4 import BeautifulSoup\n",
    "\n",
    "import os\n",
    "\n",
    "import pandas as pd\n",
    "import tqdm\n",
    "import numpy as np\n",
    "from scipy import stats\n",
    "import matplotlib.pyplot as plt"
   ]
  },
  {
   "cell_type": "code",
   "execution_count": 2,
   "metadata": {},
   "outputs": [],
   "source": [
    "url = \"https://www.ngdc.noaa.gov/stp/space-weather/satellite-data/satellite-systems/gps/data/ns41/\"\n",
    "response = requests.get(url)"
   ]
  },
  {
   "cell_type": "code",
   "execution_count": 3,
   "metadata": {},
   "outputs": [],
   "source": [
    "soup = BeautifulSoup(response.text, \"html.parser\")"
   ]
  },
  {
   "cell_type": "code",
   "execution_count": 4,
   "metadata": {},
   "outputs": [],
   "source": [
    "# get data filenames\n",
    "atags = soup.find_all('a')[6:-7]\n",
    "filenames = []\n",
    "for filename in atags:\n",
    "    filenames.append(filename[\"href\"])\n",
    "\n",
    "# create download urls\n",
    "urls = []\n",
    "for filename in filenames:\n",
    "    urls.append(url+filename)"
   ]
  },
  {
   "cell_type": "markdown",
   "metadata": {},
   "source": [
    "Having extracted the urls, we can now download all of the data files. **Be careful** running the following code block as the downloading takes quite some time."
   ]
  },
  {
   "cell_type": "code",
   "execution_count": 35,
   "metadata": {},
   "outputs": [],
   "source": [
    "# download files\n",
    "for i, file in enumerate(filenames):\n",
    "    urllib.request.urlretrieve(urls[i], \"GPS_data/\" + file)"
   ]
  },
  {
   "cell_type": "markdown",
   "metadata": {},
   "source": [
    "## Parse, extract magnetic field data, export to hdf5\n",
    "\n",
    "After downloading the files, let's process them to extract the magnetic field data. Since the data are averaged in 4 minute intervals, we should bin and average them in hourly intervals. Then let's export into an hdf5 file."
   ]
  },
  {
   "cell_type": "markdown",
   "metadata": {},
   "source": [
    "### Extract Headers\n",
    "\n",
    "First we have to extract the column headers. Despite the data files claiming to have a simple json formatting, the actual string formatting of the ascii file requires some work before you can actually leverage the alleged convenience of json. Really, really stupid formatting."
   ]
  },
  {
   "cell_type": "code",
   "execution_count": 5,
   "metadata": {},
   "outputs": [],
   "source": [
    "# header text\n",
    "with open('GPS_data/ns41_010107_v1.03.ascii', 'r') as file:\n",
    "    txt = file.readlines()\n",
    "header = txt[0:167]\n",
    "\n",
    "# combine into one string\n",
    "header = ' '.join(header)\n",
    "\n",
    "# remove weird characters\n",
    "header = header.replace('\\n', '')\n",
    "header = header.replace('#', '')\n",
    "idx = header.find('{')\n",
    "\n",
    "# parse json finally\n",
    "header_json = pd.read_json(header[idx:])\n",
    "\n",
    "# variables listed \n",
    "variables = list(header_json)\n",
    "\n",
    "# each variable contains 1+ values (columns)\n",
    "header = []\n",
    "for var in variables:\n",
    "    nrep = header_json.loc['DIMENSION', var][0]\n",
    "    header.extend([var] * nrep)"
   ]
  },
  {
   "cell_type": "markdown",
   "metadata": {},
   "source": [
    "### Extract data from ascii files\n",
    "\n",
    "Now with the headers, we can label the data that we extract from each of the ascii files. \n",
    "\n",
    "Also beware, **this takes awhile**, because (for reasons again unknown to me) they chose to use ascii formatting rather than a much faster binary format."
   ]
  },
  {
   "cell_type": "code",
   "execution_count": null,
   "metadata": {},
   "outputs": [],
   "source": [
    "#data = pd.DataFrame()\n",
    "data = []\n",
    "\n",
    "for file in tqdm.tqdm(filenames):\n",
    "    curdata = pd.read_csv(\"GPS_data/\" + file, \n",
    "                       skiprows=range(0,167), \n",
    "                       header=None, \n",
    "                       names=header,\n",
    "                       sep = ' ',\n",
    "                       skipinitialspace=True,\n",
    "                       index_col=False)\n",
    "    data.append(curdata)\n",
    "\n",
    "# concatenate into one dataframe\n",
    "data = pd.concat(data, ignore_index=True, sort=False)"
   ]
  },
  {
   "cell_type": "code",
   "execution_count": 65,
   "metadata": {},
   "outputs": [],
   "source": [
    "ndat = data.shape[0]"
   ]
  },
  {
   "cell_type": "markdown",
   "metadata": {},
   "source": [
    "### Create usable time axis\n",
    "\n",
    "Now I'll need to create a time axis consistent with the one for the OMNI data."
   ]
  },
  {
   "cell_type": "code",
   "execution_count": 113,
   "metadata": {},
   "outputs": [],
   "source": [
    "dd = data['decimal_day'].values\n",
    "dd_f = np.floor(dd)\n",
    "inc = dd - dd_f\n",
    "yr = data['year'].values"
   ]
  },
  {
   "cell_type": "code",
   "execution_count": 114,
   "metadata": {},
   "outputs": [
    {
     "name": "stderr",
     "output_type": "stream",
     "text": [
      "100%|██████████| 2078270/2078270 [00:04<00:00, 508942.40it/s]\n"
     ]
    }
   ],
   "source": [
    "# date will be first of year with day of year added as time delta\n",
    "date = []\n",
    "for ii in tqdm.tqdm(range(ndat)):\n",
    "    date.append(dt.datetime(yr[ii], 1, 1))"
   ]
  },
  {
   "cell_type": "code",
   "execution_count": 115,
   "metadata": {},
   "outputs": [
    {
     "name": "stderr",
     "output_type": "stream",
     "text": [
      "100%|██████████| 2078270/2078270 [00:16<00:00, 128892.89it/s]\n"
     ]
    }
   ],
   "source": [
    "for ii in tqdm.tqdm(range(ndat)):\n",
    "    # add days to first of year\n",
    "    date[ii] = date[ii] + dt.timedelta(days=(dd_f[ii]-1))\n",
    "    # make ordinal\n",
    "    date[ii] = date[ii].toordinal()\n",
    "    # add decimal difference\n",
    "    date[ii] = date[ii] + inc[ii]"
   ]
  },
  {
   "cell_type": "code",
   "execution_count": 116,
   "metadata": {},
   "outputs": [],
   "source": [
    "# finally add to dataframe\n",
    "data['python time'] = date"
   ]
  },
  {
   "cell_type": "markdown",
   "metadata": {},
   "source": [
    "### Finally export data to hdf5\n",
    "\n",
    "Pretty memory intensive."
   ]
  },
  {
   "cell_type": "code",
   "execution_count": 120,
   "metadata": {},
   "outputs": [],
   "source": [
    "data.to_hdf('NS41_GPS_4min.h5', key='data')"
   ]
  },
  {
   "cell_type": "markdown",
   "metadata": {},
   "source": [
    "## Average hourly and extract magnetic data\n",
    "\n",
    "Now I'll average the 4 minute spaced data in hourly bins. We'll start on the hour like with the OMNI data and the external coefficients. Let's also ignore all of the other data and just bin the magnetic data."
   ]
  },
  {
   "cell_type": "code",
   "execution_count": 88,
   "metadata": {},
   "outputs": [],
   "source": [
    "# load data if we don't still have it\n",
    "if not('data' in globals()):\n",
    "    data = pd.read_hdf('NS41_GPS_4min.h5')"
   ]
  },
  {
   "cell_type": "code",
   "execution_count": 89,
   "metadata": {},
   "outputs": [],
   "source": [
    "# ignore bad data\n",
    "idx = data['dropped_data'] != 1\n",
    "data = data[idx]\n",
    "\n",
    "# keep only the time and magnetic field columns\n",
    "data = data[['b_sattelite', 'b_equator', 'python time']]\n",
    "\n",
    "# also ignore infinite values\n",
    "data = data.replace([np.inf, -np.inf], np.nan).dropna()\n",
    "\n",
    "# finally, ignore huge outliers\n",
    "data = data[data['b_sattelite'] < 0.01]"
   ]
  },
  {
   "cell_type": "code",
   "execution_count": 90,
   "metadata": {},
   "outputs": [],
   "source": [
    "# convert to arrays\n",
    "header = list(data)\n",
    "\n",
    "# separate time from rest of data\n",
    "t = data['python time'].values\n",
    "data = data.drop('python time', axis=1).values"
   ]
  },
  {
   "cell_type": "code",
   "execution_count": 91,
   "metadata": {},
   "outputs": [
    {
     "name": "stderr",
     "output_type": "stream",
     "text": [
      "100%|██████████| 2/2 [00:00<00:00, 898.81it/s]\n"
     ]
    }
   ],
   "source": [
    "# now need to make list with columns extracted\n",
    "data_tmp = []\n",
    "for ii in tqdm.tqdm(range(data.shape[1])):\n",
    "    data_tmp.append(data[:, ii])"
   ]
  },
  {
   "cell_type": "markdown",
   "metadata": {},
   "source": [
    "For no data values, they only specify a column \"dropped_data\" that is equal to one for bad data. I suspect that most of the data columns have their own no data values, but since they aren't specified I can only use the dropped_data flag to filter out bad data."
   ]
  },
  {
   "cell_type": "code",
   "execution_count": 115,
   "metadata": {},
   "outputs": [],
   "source": [
    "# create relevant hourly bins\n",
    "hr_beg = np.floor(t[0])\n",
    "hr_end = np.ceil(t[-1])\n",
    "hrs = np.arange(hr_beg, hr_end+1/24, 1/24).round(4)\n",
    "\n",
    "# average data within bins\n",
    "data_bin, _, _ = stats.binned_statistic(t, data_tmp, bins=hrs)\n",
    "data_bin = data_bin.T\n",
    "\n",
    "# make back into dataframe\n",
    "data_bin = np.concatenate((data_bin, hrs[0:-1].reshape(-1,1)), axis=1)\n",
    "\n",
    "data = pd.DataFrame(data_bin, columns=header)\n",
    "\n",
    "# finally, convert Gauss to nano-Tesla\n",
    "data[['b_sattelite', 'b_equator']] = 1e5*data[['b_sattelite', 'b_equator']]"
   ]
  },
  {
   "cell_type": "markdown",
   "metadata": {},
   "source": [
    "Finally save as hourly file."
   ]
  },
  {
   "cell_type": "code",
   "execution_count": 119,
   "metadata": {},
   "outputs": [],
   "source": [
    "data.to_hdf('NS41_GPS_hourly.h5', key='data')"
   ]
  },
  {
   "cell_type": "markdown",
   "metadata": {},
   "source": [
    "Unfortunately, there are major gaps towards the end of the data, and these multi day gaps are really a pain to work with."
   ]
  },
  {
   "cell_type": "code",
   "execution_count": 118,
   "metadata": {},
   "outputs": [
    {
     "data": {
      "image/png": "[encoded data removed]",
      "text/plain": [
       "<Figure size 432x288 with 1 Axes>"
      ]
     },
     "metadata": {
      "needs_background": "light"
     },
     "output_type": "display_data"
    }
   ],
   "source": [
    "plt.figure()\n",
    "plt.plot(data['b_equator'])\n",
    "plt.ylabel('field strength, equator')\n",
    "plt.show()"
   ]
  }
 ],
 "metadata": {
  "kernelspec": {
   "display_name": "Python 3",
   "language": "python",
   "name": "python3"
  },
  "language_info": {
   "codemirror_mode": {
    "name": "ipython",
    "version": 3
   },
   "file_extension": ".py",
   "mimetype": "text/x-python",
   "name": "python",
   "nbconvert_exporter": "python",
   "pygments_lexer": "ipython3",
   "version": "3.6.8"
  }
 },
 "nbformat": 4,
 "nbformat_minor": 2
}
