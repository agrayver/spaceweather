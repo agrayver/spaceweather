{
 "cells": [
  {
   "cell_type": "markdown",
   "metadata": {},
   "source": [
    "# Dst Forecasting via LSTM\n",
    "\n",
    "In this notebook, I mirror the approach in the sister notebook [First Zonal Harmonic Forecasting via LSTM](forecasting_q10_LSTM.ipynb) to test the differences in forecasting between the two closely related time series. The Dst measurements come from the OMNI dataset, and all other input data are the same as from the sister notebook."
   ]
  },
  {
   "cell_type": "code",
   "execution_count": 1,
   "metadata": {},
   "outputs": [
    {
     "name": "stderr",
     "output_type": "stream",
     "text": [
      "Using TensorFlow backend.\n"
     ]
    }
   ],
   "source": [
    "# general\n",
    "import numpy as np\n",
    "from sklearn import preprocessing\n",
    "from scipy.stats import kde\n",
    "import os\n",
    "import datetime as dt\n",
    "\n",
    "# deep learning\n",
    "import tensorflow as tf\n",
    "import keras\n",
    "from keras.models import Sequential\n",
    "from keras.layers import Dense, LSTM, GRU, Dropout\n",
    "\n",
    "# file management, io\n",
    "import pandas as pd\n",
    "import h5py\n",
    "\n",
    "# plotting\n",
    "import matplotlib.pyplot as plt\n",
    "from matplotlib.ticker import FormatStrFormatter"
   ]
  },
  {
   "cell_type": "markdown",
   "metadata": {},
   "source": [
    "## Load Data\n",
    "\n",
    "Let's load the data without gaps as well as the external coefficients."
   ]
  },
  {
   "cell_type": "code",
   "execution_count": 8,
   "metadata": {},
   "outputs": [],
   "source": [
    "omni_lr = pd.read_hdf('omni_hourly_1998-2017_nogaps.h5')\n",
    "dst = omni_lr['Dst-index, nT']\n",
    "\n",
    "nfeatin = omni_lr.shape[1]\n",
    "ndat = omni_lr.shape[0]\n",
    "t = np.linspace(1998, 2018, ndat+1)[0:-1]"
   ]
  },
  {
   "cell_type": "markdown",
   "metadata": {},
   "source": [
    "The OMNI series are centered on the hour beginning at 0:00, but contain data averaged throughout the subsequent hour (i.e. hour 0 contains data averaged from 0:00-1:00). The data span from 0:00 January 1, 1998 to 23:00 December 31, 2017, UT. \n",
    "\n",
    "For now, I'll include previous values of Dst in the prediction, although ideally knowledge of the other variables would be sufficient to generate a successful model."
   ]
  },
  {
   "cell_type": "code",
   "execution_count": 11,
   "metadata": {},
   "outputs": [
    {
     "data": {
      "image/png": "[encoded data removed]",
      "text/plain": [
       "<Figure size 576x432 with 1 Axes>"
      ]
     },
     "metadata": {
      "needs_background": "light"
     },
     "output_type": "display_data"
    }
   ],
   "source": [
    "fig, ax = plt.subplots(figsize=(8,6))\n",
    "ax.plot(t,dst)\n",
    "ax.set_ylabel('Dst, nT')\n",
    "ax.set_xlabel('year')\n",
    "ax.xaxis.set_major_formatter(FormatStrFormatter('%d'))\n",
    "plt.grid(True)\n",
    "plt.show()"
   ]
  },
  {
   "cell_type": "markdown",
   "metadata": {},
   "source": [
    "## LSTM\n",
    "Having imported the data, let's design, train, and test the LSTM network for this prediction problem."
   ]
  },
  {
   "cell_type": "markdown",
   "metadata": {},
   "source": [
    "### Stateless architecture\n",
    "\n",
    "In this architecture, only batches of a given batch-size matter, with the LSTM's being trained exclusively on windows of data of size batch-size. "
   ]
  },
  {
   "cell_type": "code",
   "execution_count": 6,
   "metadata": {},
   "outputs": [],
   "source": [
    "\"\"\"\n",
    "From a data array with observations in rows and features in columns, split \n",
    "split into testing and training data based on which rows to use (datain_idx), \n",
    "batch_sizes, which features for prediction (incols) and which features as \n",
    "targest (outcols). Since we're concerned with time series forecasting, the \n",
    "number of steps to forecast ahead is lahead.\n",
    "\n",
    "IN:\n",
    "data_in: \n",
    "data_out: \n",
    "batch_size:\n",
    "train_percent:\n",
    "lahead:\n",
    "\n",
    "OUT:\n",
    "data_in_train:\n",
    "data_out_train:\n",
    "data_in_test:\n",
    "data_out_test:\n",
    "\n",
    " \"\"\"\n",
    "def datasplit(data_in, data_out, batch_size, train_percent=0.8, lahead=1):\n",
    "    nfeatin = data_in.shape[1]\n",
    "    \n",
    "    data_in = data_in[0:-lahead,:]\n",
    "    data_out = data_out[lahead:,:]\n",
    "    \n",
    "    nbatch = int(np.floor(data_in.shape[0]/batch_size))\n",
    "    \n",
    "    # now construct training and testing sets\n",
    "    batchrand = np.random.permutation(int(nbatch))\n",
    "    trainbatch = batchrand[0:int(train_percent*nbatch)]\n",
    "    testbatch = batchrand[int(train_percent*nbatch):]\n",
    "    \n",
    "    trainidx = np.zeros(data_in.shape[0],dtype=bool)\n",
    "    for batchidx in trainbatch:\n",
    "        trainidx[batchidx*batch_size:batch_size*(batchidx + 1)] = True\n",
    "        \n",
    "    testidx = np.zeros(data_out.shape[0],dtype=bool)\n",
    "    for batchidx in testbatch:\n",
    "        testidx[batchidx*batch_size:batch_size*(batchidx + 1)] = True\n",
    "    \n",
    "    data_in_train = data_in[trainidx,:]\n",
    "    data_out_train = data_out[trainidx,:]\n",
    "    data_in_test = data_in[testidx,:]\n",
    "    data_out_test = data_out[testidx,:]\n",
    "    return data_in_train, data_out_train, data_in_test, data_out_test\n",
    "\n",
    "\n",
    "\n",
    "\"\"\"\n",
    "Given a batch size and training data, train network on the data, and\n",
    "return the trained network\n",
    "\n",
    "IN:\n",
    "dat_in_train (np.ndarray): data inputs with shape (ndata, 1, nfeat_in)\n",
    "dat_out_train (np.ndarray): data outputs with shape (ndata, nfeat_out)\n",
    "batch_size (int/double):\n",
    "nunits (int/double): (default 400) number of hidden units in LSTM\n",
    "epochs (int): (default 100) epochs for training\n",
    "\n",
    "OUT:\n",
    "rnn (keras.Sequential): trained network\n",
    "hist ()\n",
    "\"\"\"\n",
    "def train_network(dat_in_train, dat_out_train, batch_size, nunits=500, \\\n",
    "                  epochs=100):\n",
    "    assert len(dat_in_train.shape) == 3, 'check shape of dat_in_train'\n",
    "    assert len(dat_out_train.shape) == 2, 'check shape of dat_out_train'\n",
    "    \n",
    "    nfeat_in = dat_in_train.shape[2]\n",
    "    nfeat_out = dat_out_train.shape[1]\n",
    "    \n",
    "    # recurrent architecture, create input and output datasets\n",
    "    rnn = Sequential()\n",
    "    \n",
    "    rnn.add(LSTM(nunits, \n",
    "            name='LSTM_1',\n",
    "            stateful=False,\n",
    "            input_shape=(1,nfeat_in),\n",
    "            batch_size=batch_size,\n",
    "            return_sequences=False,\n",
    "            activation='relu'))\n",
    "    rnn.add(Dropout(0.5))\n",
    "    rnn.add(Dense(nfeat_out,\n",
    "                  name='Dense'))\n",
    "    opt = keras.optimizers.RMSprop()\n",
    "    rnn.compile(loss='mse',optimizer=opt)\n",
    "    # fit model\n",
    "    hist = rnn.fit(dat_in_train,\n",
    "            dat_out_train,\n",
    "            epochs=epochs,\n",
    "            batch_size=batch_size,\n",
    "            shuffle=False,\n",
    "            verbose=1)\n",
    "    return rnn, hist"
   ]
  },
  {
   "cell_type": "markdown",
   "metadata": {},
   "source": [
    "### Stateful architecture\n",
    "\n",
    "In this architecture, we train the network on the entire series from 1998 to 2015, and then we test on 2016 and 2017. "
   ]
  },
  {
   "cell_type": "code",
   "execution_count": 12,
   "metadata": {},
   "outputs": [],
   "source": [
    "\"\"\"\n",
    "From a data array with observations in rows and features in columns, split \n",
    "split into testing and training data based on which rows to use (datain_idx), \n",
    "batch_sizes, which features for prediction (incols) and which features as \n",
    "targest (outcols). Since we're concerned with time series forecasting, the \n",
    "number of steps to forecast ahead is lahead.\n",
    "\n",
    "IN:\n",
    "data_in: \n",
    "data_out: \n",
    "batch_size:\n",
    "train_percent:\n",
    "lahead:\n",
    "\n",
    "OUT:\n",
    "data_in_train:\n",
    "data_out_train:\n",
    "data_in_test:\n",
    "data_out_test:\n",
    "\n",
    " \"\"\"\n",
    "def datasplit(data_in, data_out, batch_size, train_percent=0.8, lahead=1):\n",
    "    nfeatin = data_in.shape[1]\n",
    "    \n",
    "    data_in = data_in[0:-lahead,:]\n",
    "    data_out = data_out[lahead:,:]\n",
    "    \n",
    "    ndat = data_in.shape[0]\n",
    "    # limit for training data\n",
    "    lidx = int((train_percent*ndat)-((train_percent*ndat) % batch_size))\n",
    "    # limit for testing data\n",
    "    ridx = int(ndat - (ndat % batch_size))\n",
    "    \n",
    "    trainidx = np.zeros(ndat,dtype=bool)\n",
    "    trainidx[0:lidx] = True\n",
    "    testidx = np.zeros(ndat,dtype=bool)\n",
    "    testidx[lidx:ridx] = True\n",
    "    \n",
    "    data_in_train = data_in[trainidx,:]\n",
    "    data_out_train = data_out[trainidx,:]\n",
    "    data_in_test = data_in[testidx,:]\n",
    "    data_out_test = data_out[testidx,:]\n",
    "    return data_in_train, data_out_train, data_in_test, data_out_test\n",
    "\n",
    "\n",
    "\n",
    "\"\"\"\n",
    "Given a batch size and training data, train network on the data, and\n",
    "return the trained network\n",
    "\n",
    "IN:\n",
    "dat_in_train (np.ndarray): data inputs with shape (ndata, 1, nfeat_in)\n",
    "dat_out_train (np.ndarray): data outputs with shape (ndata, nfeat_out)\n",
    "batch_size (int/double):\n",
    "nunits (int/double): (default 400) number of hidden units in LSTM\n",
    "epochs (int): (default 100) epochs for training\n",
    "\n",
    "OUT:\n",
    "rnn (keras.Sequential): trained network\n",
    "hist ()\n",
    "\"\"\"\n",
    "def train_network(dat_in_train, dat_out_train, batch_size, nunits=200, \\\n",
    "                  epochs=100):\n",
    "    assert len(dat_in_train.shape) == 3, 'check shape of dat_in_train'\n",
    "    assert len(dat_out_train.shape) == 2, 'check shape of dat_out_train'\n",
    "    \n",
    "    nfeat_in = dat_in_train.shape[2]\n",
    "    nfeat_out = dat_out_train.shape[1]\n",
    "    \n",
    "    # recurrent architecture, create input and output datasets\n",
    "    rnn = Sequential()\n",
    "    \n",
    "    rnn.add(LSTM(nunits, \n",
    "            name='LSTM_1',\n",
    "            stateful=True,\n",
    "            input_shape=(1,nfeat_in),\n",
    "            batch_size=batch_size,\n",
    "            return_sequences=False,\n",
    "            activation='relu'))\n",
    "    rnn.add(Dense(nfeat_out,\n",
    "                  name='Dense'))\n",
    "    opt = keras.optimizers.RMSprop()\n",
    "    rnn.compile(loss='mse',optimizer=opt)\n",
    "    # fit model\n",
    "    hist = np.zeros(epochs)\n",
    "    for ii in range(epochs):\n",
    "        rnn.reset_states()\n",
    "        tmp = rnn.fit(dat_in_train,\n",
    "            dat_out_train,\n",
    "            epochs=1,\n",
    "            batch_size=batch_size,\n",
    "            shuffle=False,\n",
    "            verbose=0)\n",
    "        hist[ii] = tmp.history['loss'][0]\n",
    "        print('Epoch %d, MSE %1.2e' % (ii, hist[ii]))\n",
    "    return rnn, hist"
   ]
  },
  {
   "cell_type": "markdown",
   "metadata": {},
   "source": [
    "### Common Functions"
   ]
  },
  {
   "cell_type": "code",
   "execution_count": 13,
   "metadata": {},
   "outputs": [],
   "source": [
    "\"\"\"\n",
    "Given a trained network, evaluated it on testing data and plot the\n",
    "scatter plots.\n",
    "\n",
    "IN:\n",
    "dat_in_test (np.ndarray): data inputs with shape (ndata, 1, nfeat_in)\n",
    "dat_out_test (np.ndarray): data outputs with shape (ndata, nfeat_out)\n",
    "rnn (keras.Sequential): trained network\n",
    "batch_size (int/double):\n",
    "feature_names (list): list of names of output features, length nfeat_out\n",
    "\n",
    "OUT:\n",
    "produces plot\n",
    "\n",
    "\"\"\"\n",
    "def test_network(dat_in_test, dat_out_test, rnn, batch_size, feature_names):\n",
    "    assert len(dat_in_test.shape) == 3, 'check shape of dat_in_test'\n",
    "    assert len(dat_out_test.shape) == 2, 'check shape of dat_out_test'\n",
    "    nfeat_out = dat_out_test.shape[1]\n",
    "    rnn.reset_states()\n",
    "    dat_pred = rnn.predict(dat_in_test,batch_size=batch_size)\n",
    "    plt.figure()\n",
    "    curtest = np.concatenate((scaler_output.inverse_transform(dat_out_test),\\\n",
    "                              scaler_output.inverse_transform(dat_pred)), axis=1)\n",
    "    r2 = np.corrcoef(curtest[:,0],curtest[:,1])[0,1]**2\n",
    "    plt.scatter(curtest[:,0],curtest[:,1],marker='.')\n",
    "    k = kde.gaussian_kde(curtest.T)\n",
    "    x, y = curtest.T\n",
    "    nbins = 50\n",
    "    xi, yi = np.mgrid[x.min():x.max():nbins*1j, y.min():y.max():nbins*1j]\n",
    "    zi = k(np.vstack([xi.flatten(), yi.flatten()]))                                      \n",
    "    plt.contour(xi,yi,zi.reshape(xi.shape), 10)\n",
    "    abline(1,0)\n",
    "    plt.title('%s, $r^2$ = %1.2f' % (feature_names, r2))\n",
    "    plt.show()\n",
    "    return dat_pred\n",
    "\n",
    "\"\"\"\n",
    "Plot straight line in current axis.\n",
    "\"\"\"\n",
    "def abline(slope, intercept):\n",
    "    axes = plt.gca()\n",
    "    x_vals = np.array(axes.get_xlim())\n",
    "    y_vals = intercept + slope * x_vals\n",
    "    plt.plot(x_vals, y_vals, 'k--')"
   ]
  },
  {
   "cell_type": "markdown",
   "metadata": {},
   "source": [
    "### Split and Prepare Data\n",
    "\n",
    "Let's separate the data into training and testing sets. Let's also normalize all of the data according to the training data."
   ]
  },
  {
   "cell_type": "code",
   "execution_count": 14,
   "metadata": {},
   "outputs": [],
   "source": [
    "batch_size = 1000\n",
    "lahead = 6\n",
    "train_percent = 0.8"
   ]
  },
  {
   "cell_type": "code",
   "execution_count": 16,
   "metadata": {},
   "outputs": [
    {
     "name": "stderr",
     "output_type": "stream",
     "text": [
      "/Users/adrianraph/anaconda3/lib/python3.6/site-packages/sklearn/utils/validation.py:590: DataConversionWarning: Data with input dtype int64 was converted to float64 by MinMaxScaler.\n",
      "  warnings.warn(msg, DataConversionWarning)\n"
     ]
    }
   ],
   "source": [
    "# split\n",
    "data_in_train, data_out_train, data_in_test, data_out_test = datasplit(omni_lr.values, dst.values.reshape(-1,1), batch_size, train_percent, lahead)\n",
    "\n",
    "# normalize\n",
    "scaler_input = preprocessing.MinMaxScaler(feature_range=(0,1))\n",
    "data_in_train = scaler_input.fit_transform(data_in_train)\n",
    "data_in_test = scaler_input.transform(data_in_test)\n",
    "\n",
    "scaler_output = preprocessing.MinMaxScaler(feature_range=(0,1))\n",
    "data_out_train = scaler_output.fit_transform(data_out_train)\n",
    "data_out_test = scaler_output.transform(data_out_test)\n",
    "\n",
    "# reshape input data\n",
    "data_in_train = data_in_train.reshape(-1,1,nfeatin)\n",
    "data_in_test = data_in_test.reshape(-1,1,nfeatin)"
   ]
  },
  {
   "cell_type": "code",
   "execution_count": null,
   "metadata": {},
   "outputs": [],
   "source": [
    "rnn, hist = train_network(data_in_train, data_out_train, batch_size, epochs=40)\n",
    "plt.plot(hist)"
   ]
  },
  {
   "cell_type": "markdown",
   "metadata": {},
   "source": [
    "### Test"
   ]
  },
  {
   "cell_type": "code",
   "execution_count": 12,
   "metadata": {},
   "outputs": [
    {
     "data": {
      "image/png": "[encoded data removed]",
      "text/plain": [
       "<Figure size 432x288 with 1 Axes>"
      ]
     },
     "metadata": {},
     "output_type": "display_data"
    }
   ],
   "source": [
    "data_out_pred = test_network(data_in_test, data_out_test, rnn, batch_size,'$\\epsilon_1^0$')"
   ]
  },
  {
   "cell_type": "code",
   "execution_count": null,
   "metadata": {},
   "outputs": [],
   "source": []
  }
 ],
 "metadata": {
  "kernelspec": {
   "display_name": "Python 3",
   "language": "python",
   "name": "python3"
  },
  "language_info": {
   "codemirror_mode": {
    "name": "ipython",
    "version": 3
   },
   "file_extension": ".py",
   "mimetype": "text/x-python",
   "name": "python",
   "nbconvert_exporter": "python",
   "pygments_lexer": "ipython3",
   "version": "3.6.6"
  }
 },
 "nbformat": 4,
 "nbformat_minor": 2
}
