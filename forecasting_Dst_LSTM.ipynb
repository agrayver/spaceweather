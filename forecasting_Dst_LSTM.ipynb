{
 "cells": [
  {
   "cell_type": "markdown",
   "metadata": {},
   "source": [
    "# Dst Forecasting via LSTM\n",
    "\n",
    "In this notebook, I mirror the approach in the sister notebook [First Zonal Harmonic Forecasting via LSTM](forecasting_q10_LSTM.ipynb) to test the differences in forecasting between the two closely related time series. The Dst measurements come from the OMNI dataset, and all other input data are the same as from the sister notebook."
   ]
  },
  {
   "cell_type": "code",
   "execution_count": 126,
   "metadata": {},
   "outputs": [],
   "source": [
    "# general\n",
    "import numpy as np\n",
    "from sklearn import preprocessing\n",
    "from scipy.stats import kde\n",
    "from scipy import signal\n",
    "import os\n",
    "import datetime as dt\n",
    "\n",
    "# deep learning\n",
    "import tensorflow as tf\n",
    "import keras\n",
    "from keras.models import Sequential\n",
    "from keras.layers import Dense, LSTM, GRU, Dropout\n",
    "\n",
    "# file management, io\n",
    "import pandas as pd\n",
    "import h5py\n",
    "\n",
    "# plotting\n",
    "import matplotlib.pyplot as plt\n",
    "from matplotlib.ticker import FormatStrFormatter"
   ]
  },
  {
   "cell_type": "markdown",
   "metadata": {},
   "source": [
    "## Load Data\n",
    "\n",
    "Let's load the data without gaps as well as the external coefficients."
   ]
  },
  {
   "cell_type": "code",
   "execution_count": 2,
   "metadata": {},
   "outputs": [],
   "source": [
    "omni_lr = pd.read_hdf('omni_hourly_1998-2017_nogaps.h5')\n",
    "dst = omni_lr['Dst-index, nT']\n",
    "#omni_lr = omni_lr.drop('Dst-index, nT', axis=1)\n",
    "\n",
    "nfeatin = omni_lr.shape[1]\n",
    "ndat = omni_lr.shape[0]\n",
    "t = np.linspace(1998, 2018, ndat+1)[0:-1]"
   ]
  },
  {
   "cell_type": "markdown",
   "metadata": {},
   "source": [
    "The OMNI series are centered on the hour beginning at 0:00, but contain data averaged throughout the subsequent hour (i.e. hour 0 contains data averaged from 0:00-1:00). The data span from 0:00 January 1, 1998 to 23:00 December 31, 2017, UT. \n",
    "\n",
    "For now, I'll include previous values of Dst in the prediction, although ideally knowledge of the other variables would be sufficient to generate a successful model."
   ]
  },
  {
   "cell_type": "code",
   "execution_count": 3,
   "metadata": {},
   "outputs": [
    {
     "data": {
      "image/png": "[encoded data removed]",
      "text/plain": [
       "<Figure size 576x432 with 1 Axes>"
      ]
     },
     "metadata": {},
     "output_type": "display_data"
    }
   ],
   "source": [
    "fig, ax = plt.subplots(figsize=(8,6))\n",
    "ax.plot(t,dst)\n",
    "ax.set_ylabel('Dst, nT')\n",
    "ax.set_xlabel('year')\n",
    "ax.xaxis.set_major_formatter(FormatStrFormatter('%d'))\n",
    "plt.grid(True)\n",
    "plt.show()"
   ]
  },
  {
   "cell_type": "markdown",
   "metadata": {},
   "source": [
    "## LSTM\n",
    "Having imported the data, let's design, train, and test the LSTM network for this prediction problem."
   ]
  },
  {
   "cell_type": "markdown",
   "metadata": {},
   "source": [
    "### Stateless architecture\n",
    "\n",
    "In this architecture, only batches of a given batch-size matter, with the LSTM's being trained exclusively on windows of data of size batch-size. "
   ]
  },
  {
   "cell_type": "code",
   "execution_count": 121,
   "metadata": {},
   "outputs": [],
   "source": [
    "\"\"\"\n",
    "From a data array with observations in rows and features in columns, split \n",
    "split into testing and training data based on which rows to use (datain_idx), \n",
    "batch_sizes, which features for prediction (incols) and which features as \n",
    "targest (outcols). Since we're concerned with time series forecasting, the \n",
    "number of steps to forecast ahead is lahead.\n",
    "\n",
    "IN:\n",
    "data_in: \n",
    "data_out: \n",
    "batch_size:\n",
    "train_percent:\n",
    "lahead:\n",
    "\n",
    "OUT:\n",
    "data_in_train:\n",
    "data_out_train:\n",
    "data_in_test:\n",
    "data_out_test:\n",
    "\n",
    " \"\"\"\n",
    "def datasplit(data_in, data_out, batch_size, train_percent=0.8, lahead=1):\n",
    "    nfeatin = data_in.shape[1]\n",
    "    \n",
    "    data_in = data_in[0:-lahead,:]\n",
    "    data_out = data_out[lahead:,:]\n",
    "    \n",
    "    nbatch = int(np.floor(data_in.shape[0]/batch_size))\n",
    "    \n",
    "    # now construct training and testing sets\n",
    "    batchrand = np.random.permutation(int(nbatch))\n",
    "    trainbatch = batchrand[0:int(train_percent*nbatch)]\n",
    "    testbatch = batchrand[int(train_percent*nbatch):]\n",
    "    \n",
    "    trainidx = np.zeros(data_in.shape[0],dtype=bool)\n",
    "    for batchidx in trainbatch:\n",
    "        trainidx[batchidx*batch_size:batch_size*(batchidx + 1)] = True\n",
    "        \n",
    "    testidx = np.zeros(data_out.shape[0],dtype=bool)\n",
    "    for batchidx in testbatch:\n",
    "        testidx[batchidx*batch_size:batch_size*(batchidx + 1)] = True\n",
    "    \n",
    "    data_in_train = data_in[trainidx,:]\n",
    "    data_out_train = data_out[trainidx,:]\n",
    "    data_in_test = data_in[testidx,:]\n",
    "    data_out_test = data_out[testidx,:]\n",
    "    return data_in_train, data_out_train, data_in_test, data_out_test\n",
    "\n",
    "\n",
    "\n",
    "\"\"\"\n",
    "Given a batch size and training data, train network on the data, and\n",
    "return the trained network\n",
    "\n",
    "IN:\n",
    "dat_in_train (np.ndarray): data inputs with shape (ndata, 1, nfeat_in)\n",
    "dat_out_train (np.ndarray): data outputs with shape (ndata, nfeat_out)\n",
    "batch_size (int/double):\n",
    "nunits (int/double): (default 400) number of hidden units in LSTM\n",
    "epochs (int): (default 100) epochs for training\n",
    "\n",
    "OUT:\n",
    "rnn (keras.Sequential): trained network\n",
    "hist ()\n",
    "\"\"\"\n",
    "def train_network(dat_in_train, dat_out_train, batch_size, nunits=100, \\\n",
    "                  epochs=100):\n",
    "    assert len(dat_in_train.shape) == 3, 'check shape of dat_in_train'\n",
    "    assert len(dat_out_train.shape) == 2, 'check shape of dat_out_train'\n",
    "    \n",
    "    nfeat_in = dat_in_train.shape[2]\n",
    "    nfeat_out = dat_out_train.shape[1]\n",
    "    \n",
    "    # recurrent architecture, create input and output datasets\n",
    "    rnn = Sequential()\n",
    "    \n",
    "    rnn.add(LSTM(nunits, \n",
    "            name='LSTM_1',\n",
    "            stateful=False,\n",
    "            input_shape=(1,nfeat_in),\n",
    "            batch_size=batch_size,\n",
    "            return_sequences=False,\n",
    "            activation='relu'))\n",
    "    #rnn.add(Dropout(0.25))\n",
    "    rnn.add(Dense(nfeat_out,\n",
    "                  name='Dense'))\n",
    "    opt = keras.optimizers.RMSprop()\n",
    "    rnn.compile(loss='mse',optimizer=opt)\n",
    "    # fit model\n",
    "    hist = rnn.fit(dat_in_train,\n",
    "            dat_out_train,\n",
    "            epochs=epochs,\n",
    "            batch_size=batch_size,\n",
    "            shuffle=False,\n",
    "            verbose=1)\n",
    "    hist = hist.history['loss']\n",
    "    return rnn, hist"
   ]
  },
  {
   "cell_type": "markdown",
   "metadata": {},
   "source": [
    "### Stateful architecture\n",
    "\n",
    "In this architecture, we train the network on the entire series from 1998 to 2015, and then we test on 2016 and 2017. "
   ]
  },
  {
   "cell_type": "code",
   "execution_count": 59,
   "metadata": {},
   "outputs": [],
   "source": [
    "\"\"\"\n",
    "From a data array with observations in rows and features in columns, split \n",
    "split into testing and training data based on which rows to use (datain_idx), \n",
    "batch_sizes, which features for prediction (incols) and which features as \n",
    "targest (outcols). Since we're concerned with time series forecasting, the \n",
    "number of steps to forecast ahead is lahead.\n",
    "\n",
    "IN:\n",
    "data_in: \n",
    "data_out: \n",
    "batch_size:\n",
    "train_percent:\n",
    "lahead:\n",
    "\n",
    "OUT:\n",
    "data_in_train:\n",
    "data_out_train:\n",
    "data_in_test:\n",
    "data_out_test:\n",
    "\n",
    " \"\"\"\n",
    "def datasplit(data_in, data_out, batch_size, train_percent=0.8, lahead=1):\n",
    "    nfeatin = data_in.shape[1]\n",
    "    \n",
    "    data_in = data_in[0:-lahead,:]\n",
    "    data_out = data_out[lahead:,:]\n",
    "    \n",
    "    ndat = data_in.shape[0]\n",
    "    # limit for training data\n",
    "    lidx = int((train_percent*ndat)-((train_percent*ndat) % batch_size))\n",
    "    # limit for testing data\n",
    "    ridx = int(ndat - (ndat % batch_size))\n",
    "    \n",
    "    trainidx = np.zeros(ndat,dtype=bool)\n",
    "    trainidx[0:lidx] = True\n",
    "    testidx = np.zeros(ndat,dtype=bool)\n",
    "    testidx[lidx:ridx] = True\n",
    "    \n",
    "    data_in_train = data_in[trainidx,:]\n",
    "    data_out_train = data_out[trainidx,:]\n",
    "    data_in_test = data_in[testidx,:]\n",
    "    data_out_test = data_out[testidx,:]\n",
    "    return data_in_train, data_out_train, data_in_test, data_out_test\n",
    "\n",
    "\n",
    "\n",
    "\"\"\"\n",
    "Given a batch size and training data, train network on the data, and\n",
    "return the trained network\n",
    "\n",
    "IN:\n",
    "dat_in_train (np.ndarray): data inputs with shape (ndata, 1, nfeat_in)\n",
    "dat_out_train (np.ndarray): data outputs with shape (ndata, nfeat_out)\n",
    "batch_size (int/double):\n",
    "nunits (int/double): (default 400) number of hidden units in LSTM\n",
    "epochs (int): (default 100) epochs for training\n",
    "\n",
    "OUT:\n",
    "rnn (keras.Sequential): trained network\n",
    "hist ()\n",
    "\"\"\"\n",
    "def train_network(dat_in_train, dat_out_train, batch_size, nunits=100, \\\n",
    "                  epochs=100):\n",
    "    assert len(dat_in_train.shape) == 3, 'check shape of dat_in_train'\n",
    "    assert len(dat_out_train.shape) == 2, 'check shape of dat_out_train'\n",
    "    \n",
    "    nfeat_in = dat_in_train.shape[2]\n",
    "    nfeat_out = dat_out_train.shape[1]\n",
    "    \n",
    "    # recurrent architecture, create input and output datasets\n",
    "    rnn = Sequential()\n",
    "    \n",
    "    rnn.add(LSTM(nunits, \n",
    "            name='LSTM_1',\n",
    "            stateful=True,\n",
    "            input_shape=(1,nfeat_in),\n",
    "            batch_size=batch_size,\n",
    "            return_sequences=False,\n",
    "            activation='relu'))\n",
    "    #rnn.add(Dropout(0.02))\n",
    "    rnn.add(Dense(nfeat_out,\n",
    "                  name='Dense'))\n",
    "    opt = keras.optimizers.RMSprop()\n",
    "    rnn.compile(loss='mse',optimizer=opt)\n",
    "    # fit model\n",
    "    hist = np.zeros(epochs)\n",
    "    for ii in range(epochs):\n",
    "        rnn.reset_states()\n",
    "        tmp = rnn.fit(dat_in_train,\n",
    "            dat_out_train,\n",
    "            epochs=1,\n",
    "            batch_size=batch_size,\n",
    "            shuffle=False,\n",
    "            verbose=0)\n",
    "        hist[ii] = tmp.history['loss'][0]\n",
    "        print('Epoch %d, Loss %1.2e' % (ii, hist[ii]))\n",
    "    return rnn, hist"
   ]
  },
  {
   "cell_type": "markdown",
   "metadata": {},
   "source": [
    "### Common Functions"
   ]
  },
  {
   "cell_type": "code",
   "execution_count": 152,
   "metadata": {},
   "outputs": [],
   "source": [
    "\"\"\"\n",
    "Given a trained network, evaluated it on testing data and plot the\n",
    "scatter plots.\n",
    "\n",
    "IN:\n",
    "dat_in_test (np.ndarray): data inputs with shape (ndata, 1, nfeat_in)\n",
    "dat_out_test (np.ndarray): data outputs with shape (ndata, nfeat_out)\n",
    "rnn (keras.Sequential): trained network\n",
    "batch_size (int/double):\n",
    "feature_names (list): list of names of output features, length nfeat_out\n",
    "\n",
    "OUT:\n",
    "produces plot\n",
    "\n",
    "\"\"\"\n",
    "def test_network(dat_in_test, dat_out_test, rnn, batch_size, feature_names):\n",
    "    assert len(dat_in_test.shape) == 3, 'check shape of dat_in_test'\n",
    "    assert len(dat_out_test.shape) == 2, 'check shape of dat_out_test'\n",
    "    nfeat_out = dat_out_test.shape[1]\n",
    "    rnn.reset_states()\n",
    "    dat_pred = rnn.predict(dat_in_test,batch_size=batch_size)\n",
    "    plt.figure()\n",
    "    curtest = np.concatenate((scaler_output.inverse_transform(dat_out_test),\\\n",
    "                              scaler_output.inverse_transform(dat_pred)), axis=1)\n",
    "    plotcorr(curtest, title=feature_names)\n",
    "    return dat_pred\n",
    "\n",
    "\"\"\"\n",
    "Plot straight line in current axis.\n",
    "\"\"\"\n",
    "def abline(slope, intercept):\n",
    "    axes = plt.gca()\n",
    "    x_vals = np.array(axes.get_xlim())\n",
    "    y_vals = intercept + slope * x_vals\n",
    "    plt.plot(x_vals, y_vals, 'k--')\n",
    "    \n",
    "\"\"\"\n",
    "Plot scatter plot with 1:1 line and point density contours.\n",
    "IN:\n",
    "data (nd.array): ndata x 2 array\n",
    "\"\"\"\n",
    "def plotcorr(data, title=''):\n",
    "    plt.scatter(data[:,0], data[:,1], marker='.')\n",
    "    k = kde.gaussian_kde(data.T)\n",
    "    x, y = data.T\n",
    "    nbins = 50\n",
    "    xi, yi = np.mgrid[x.min():x.max():nbins*1j, y.min():y.max():nbins*1j]\n",
    "    zi = k(np.vstack([xi.flatten(), yi.flatten()]))                                      \n",
    "    plt.contour(xi,yi,zi.reshape(xi.shape), 10)\n",
    "    abline(1,0)\n",
    "    r2 = np.corrcoef(data[:,0], data[:,1])[0,1]**2\n",
    "    plt.title('%s, $r^2$ = %1.2f' % (title, r2))\n",
    "    plt.show()"
   ]
  },
  {
   "cell_type": "markdown",
   "metadata": {},
   "source": [
    "### Split and Prepare Data\n",
    "\n",
    "Let's separate the data into training and testing sets. Let's also normalize all of the data according to the training data."
   ]
  },
  {
   "cell_type": "code",
   "execution_count": 123,
   "metadata": {},
   "outputs": [],
   "source": [
    "batch_size = 150\n",
    "lahead = 6\n",
    "train_percent = 0.8"
   ]
  },
  {
   "cell_type": "code",
   "execution_count": 124,
   "metadata": {},
   "outputs": [
    {
     "name": "stderr",
     "output_type": "stream",
     "text": [
      "C:\\Users\\Adrian\\.julia\\packages\\Conda\\m7vem\\deps\\usr\\lib\\site-packages\\sklearn\\utils\\validation.py:590: DataConversionWarning: Data with input dtype int64 was converted to float64 by MinMaxScaler.\n",
      "  warnings.warn(msg, DataConversionWarning)\n"
     ]
    }
   ],
   "source": [
    "# split\n",
    "data_in_train, data_out_train, data_in_test, data_out_test = datasplit(omni_lr.values, dst.values.reshape(-1,1), batch_size, train_percent, lahead)\n",
    "\n",
    "# normalize\n",
    "scaler_input = preprocessing.MinMaxScaler(feature_range=(0,1))\n",
    "data_in_train = scaler_input.fit_transform(data_in_train)\n",
    "data_in_test = scaler_input.transform(data_in_test)\n",
    "\n",
    "scaler_output = preprocessing.MinMaxScaler(feature_range=(0,1))\n",
    "data_out_train = scaler_output.fit_transform(data_out_train)\n",
    "data_out_test = scaler_output.transform(data_out_test)\n",
    "\n",
    "# reshape input data\n",
    "data_in_train = data_in_train.reshape(-1,1,nfeatin)\n",
    "data_in_test = data_in_test.reshape(-1,1,nfeatin)"
   ]
  },
  {
   "cell_type": "code",
   "execution_count": 128,
   "metadata": {},
   "outputs": [
    {
     "name": "stdout",
     "output_type": "stream",
     "text": [
      "Epoch 1/100\n",
      "140100/140100 [==============================] - 5s 33us/step - loss: 0.0112\n",
      "Epoch 2/100\n",
      "140100/140100 [==============================] - 4s 25us/step - loss: 8.6271e-04\n",
      "Epoch 3/100\n",
      "140100/140100 [==============================] - 4s 25us/step - loss: 7.6200e-04\n",
      "Epoch 4/100\n",
      "140100/140100 [==============================] - 4s 25us/step - loss: 7.0832e-04\n",
      "Epoch 5/100\n",
      "140100/140100 [==============================] - 4s 25us/step - loss: 6.7668e-04\n",
      "Epoch 6/100\n",
      "140100/140100 [==============================] - 4s 25us/step - loss: 6.5892e-04\n",
      "Epoch 7/100\n",
      "140100/140100 [==============================] - 4s 27us/step - loss: 6.4339e-04\n",
      "Epoch 8/100\n",
      "140100/140100 [==============================] - 4s 28us/step - loss: 6.3246e-04\n",
      "Epoch 9/100\n",
      "140100/140100 [==============================] - 4s 27us/step - loss: 6.2316e-04\n",
      "Epoch 10/100\n",
      "140100/140100 [==============================] - 4s 25us/step - loss: 6.1599e-04\n",
      "Epoch 11/100\n",
      "140100/140100 [==============================] - 4s 25us/step - loss: 6.1005e-04\n",
      "Epoch 12/100\n",
      "140100/140100 [==============================] - 4s 31us/step - loss: 6.0535e-04\n",
      "Epoch 13/100\n",
      "140100/140100 [==============================] - 4s 31us/step - loss: 6.0049e-04\n",
      "Epoch 14/100\n",
      "140100/140100 [==============================] - 4s 25us/step - loss: 5.9635e-04\n",
      "Epoch 15/100\n",
      "140100/140100 [==============================] - 4s 26us/step - loss: 5.9297e-04\n",
      "Epoch 16/100\n",
      "140100/140100 [==============================] - 4s 27us/step - loss: 5.8984e-04\n",
      "Epoch 17/100\n",
      "140100/140100 [==============================] - 4s 27us/step - loss: 5.8615e-04\n",
      "Epoch 18/100\n",
      "140100/140100 [==============================] - 4s 27us/step - loss: 5.8298e-04\n",
      "Epoch 19/100\n",
      "140100/140100 [==============================] - 4s 25us/step - loss: 5.8029e-04\n",
      "Epoch 20/100\n",
      "140100/140100 [==============================] - 4s 25us/step - loss: 5.7781e-04\n",
      "Epoch 21/100\n",
      "140100/140100 [==============================] - 4s 27us/step - loss: 5.7474e-04\n",
      "Epoch 22/100\n",
      "140100/140100 [==============================] - 4s 25us/step - loss: 5.7211e-04\n",
      "Epoch 23/100\n",
      "140100/140100 [==============================] - 4s 27us/step - loss: 5.6961e-04\n",
      "Epoch 24/100\n",
      "140100/140100 [==============================] - 4s 27us/step - loss: 5.6718e-04\n",
      "Epoch 25/100\n",
      "140100/140100 [==============================] - 4s 26us/step - loss: 5.6490e-04\n",
      "Epoch 26/100\n",
      "140100/140100 [==============================] - 4s 26us/step - loss: 5.6226e-04\n",
      "Epoch 27/100\n",
      "140100/140100 [==============================] - 4s 28us/step - loss: 5.6045e-04\n",
      "Epoch 28/100\n",
      "140100/140100 [==============================] - 4s 27us/step - loss: 5.5779e-04\n",
      "Epoch 29/100\n",
      "140100/140100 [==============================] - 4s 29us/step - loss: 5.5643e-04\n",
      "Epoch 30/100\n",
      "140100/140100 [==============================] - 4s 28us/step - loss: 5.5509e-04\n",
      "Epoch 31/100\n",
      "140100/140100 [==============================] - 4s 29us/step - loss: 5.5332e-04\n",
      "Epoch 32/100\n",
      "140100/140100 [==============================] - 4s 26us/step - loss: 5.5209e-04\n",
      "Epoch 33/100\n",
      "140100/140100 [==============================] - 4s 26us/step - loss: 5.5034e-04\n",
      "Epoch 34/100\n",
      "140100/140100 [==============================] - 4s 26us/step - loss: 5.4882e-04\n",
      "Epoch 35/100\n",
      "140100/140100 [==============================] - 4s 26us/step - loss: 5.4694e-04\n",
      "Epoch 36/100\n",
      "140100/140100 [==============================] - 4s 26us/step - loss: 5.4546e-04\n",
      "Epoch 37/100\n",
      "140100/140100 [==============================] - 4s 26us/step - loss: 5.4361e-04\n",
      "Epoch 38/100\n",
      "140100/140100 [==============================] - 4s 27us/step - loss: 5.4275e-04\n",
      "Epoch 39/100\n",
      "140100/140100 [==============================] - 4s 27us/step - loss: 5.4104e-04\n",
      "Epoch 40/100\n",
      "140100/140100 [==============================] - 4s 26us/step - loss: 5.4011e-04\n",
      "Epoch 41/100\n",
      "140100/140100 [==============================] - 4s 25us/step - loss: 5.3825e-04\n",
      "Epoch 42/100\n",
      "140100/140100 [==============================] - 4s 25us/step - loss: 5.3733e-04\n",
      "Epoch 43/100\n",
      "140100/140100 [==============================] - 4s 26us/step - loss: 5.3607e-04\n",
      "Epoch 44/100\n",
      "140100/140100 [==============================] - 4s 26us/step - loss: 5.3441e-04\n",
      "Epoch 45/100\n",
      "140100/140100 [==============================] - 4s 26us/step - loss: 5.3301e-04\n",
      "Epoch 46/100\n",
      "140100/140100 [==============================] - 4s 26us/step - loss: 5.3144e-04\n",
      "Epoch 47/100\n",
      "140100/140100 [==============================] - 4s 27us/step - loss: 5.2916e-04\n",
      "Epoch 48/100\n",
      "140100/140100 [==============================] - 4s 27us/step - loss: 5.2782e-04\n",
      "Epoch 49/100\n",
      "140100/140100 [==============================] - 4s 26us/step - loss: 5.2551e-04\n",
      "Epoch 50/100\n",
      "140100/140100 [==============================] - 4s 27us/step - loss: 5.2391e-04\n",
      "Epoch 51/100\n",
      "140100/140100 [==============================] - 4s 26us/step - loss: 5.2327e-04\n",
      "Epoch 52/100\n",
      "140100/140100 [==============================] - 4s 27us/step - loss: 5.2173e-04\n",
      "Epoch 53/100\n",
      "140100/140100 [==============================] - 4s 27us/step - loss: 5.2064e-04\n",
      "Epoch 54/100\n",
      "140100/140100 [==============================] - 4s 26us/step - loss: 5.2084e-04\n",
      "Epoch 55/100\n",
      "140100/140100 [==============================] - 4s 26us/step - loss: 5.1951e-04\n",
      "Epoch 56/100\n",
      "140100/140100 [==============================] - 4s 26us/step - loss: 5.1816e-04\n",
      "Epoch 57/100\n",
      "140100/140100 [==============================] - 4s 26us/step - loss: 5.1752e-04\n",
      "Epoch 58/100\n",
      "140100/140100 [==============================] - 4s 26us/step - loss: 5.1633e-04\n",
      "Epoch 59/100\n",
      "140100/140100 [==============================] - 4s 26us/step - loss: 5.1581e-04\n",
      "Epoch 60/100\n",
      "140100/140100 [==============================] - 4s 26us/step - loss: 5.1508e-04\n",
      "Epoch 61/100\n",
      "140100/140100 [==============================] - 4s 26us/step - loss: 5.1434e-04\n",
      "Epoch 62/100\n",
      "140100/140100 [==============================] - 4s 26us/step - loss: 5.1389e-04\n",
      "Epoch 63/100\n",
      "140100/140100 [==============================] - 4s 26us/step - loss: 5.1315e-04\n",
      "Epoch 64/100\n",
      "140100/140100 [==============================] - 4s 27us/step - loss: 5.1208e-04\n",
      "Epoch 65/100\n",
      "140100/140100 [==============================] - 4s 27us/step - loss: 5.1159e-04\n",
      "Epoch 66/100\n",
      "140100/140100 [==============================] - 4s 26us/step - loss: 5.1101e-04\n",
      "Epoch 67/100\n",
      "140100/140100 [==============================] - 4s 28us/step - loss: 5.0983e-04\n",
      "Epoch 68/100\n",
      "140100/140100 [==============================] - 4s 27us/step - loss: 5.0957e-04\n",
      "Epoch 69/100\n",
      "140100/140100 [==============================] - 4s 27us/step - loss: 5.0871e-04\n",
      "Epoch 70/100\n",
      "140100/140100 [==============================] - 4s 27us/step - loss: 5.0878e-04\n",
      "Epoch 71/100\n",
      "140100/140100 [==============================] - 4s 28us/step - loss: 5.0796e-04\n",
      "Epoch 72/100\n",
      "140100/140100 [==============================] - 4s 27us/step - loss: 5.0702e-04\n",
      "Epoch 73/100\n",
      "140100/140100 [==============================] - 4s 27us/step - loss: 5.0618e-04\n",
      "Epoch 74/100\n",
      "140100/140100 [==============================] - 4s 26us/step - loss: 5.0538e-04\n",
      "Epoch 75/100\n",
      "140100/140100 [==============================] - 4s 26us/step - loss: 5.0475e-04\n",
      "Epoch 76/100\n",
      "140100/140100 [==============================] - 4s 27us/step - loss: 5.0410e-04\n",
      "Epoch 77/100\n",
      "140100/140100 [==============================] - 4s 26us/step - loss: 5.0314e-04\n",
      "Epoch 78/100\n",
      "140100/140100 [==============================] - 4s 27us/step - loss: 5.0232e-04\n",
      "Epoch 79/100\n",
      "140100/140100 [==============================] - 4s 27us/step - loss: 5.0176e-04\n",
      "Epoch 80/100\n",
      "140100/140100 [==============================] - 4s 26us/step - loss: 5.0077e-04\n",
      "Epoch 81/100\n",
      "140100/140100 [==============================] - 4s 27us/step - loss: 5.0041e-04\n",
      "Epoch 82/100\n",
      "140100/140100 [==============================] - 4s 28us/step - loss: 4.9996e-04\n",
      "Epoch 83/100\n",
      "140100/140100 [==============================] - 4s 28us/step - loss: 4.9911e-04\n",
      "Epoch 84/100\n",
      "140100/140100 [==============================] - 4s 27us/step - loss: 4.9889e-04\n",
      "Epoch 85/100\n",
      "140100/140100 [==============================] - 4s 27us/step - loss: 4.9843e-04\n",
      "Epoch 86/100\n",
      "140100/140100 [==============================] - 4s 27us/step - loss: 4.9760e-04\n",
      "Epoch 87/100\n",
      "140100/140100 [==============================] - 4s 27us/step - loss: 4.9727e-04\n",
      "Epoch 88/100\n",
      "140100/140100 [==============================] - 4s 27us/step - loss: 4.9707e-04\n",
      "Epoch 89/100\n",
      "140100/140100 [==============================] - 4s 27us/step - loss: 4.9620e-04\n",
      "Epoch 90/100\n",
      "140100/140100 [==============================] - 4s 27us/step - loss: 4.9630e-04\n",
      "Epoch 91/100\n",
      "140100/140100 [==============================] - 4s 27us/step - loss: 4.9575e-04\n",
      "Epoch 92/100\n",
      "140100/140100 [==============================] - 4s 28us/step - loss: 4.9521e-04\n",
      "Epoch 93/100\n",
      "140100/140100 [==============================] - 4s 27us/step - loss: 4.9456e-04\n",
      "Epoch 94/100\n",
      "140100/140100 [==============================] - 4s 27us/step - loss: 4.9417e-04\n",
      "Epoch 95/100\n",
      "140100/140100 [==============================] - 4s 27us/step - loss: 4.9385e-04\n",
      "Epoch 96/100\n",
      "140100/140100 [==============================] - 4s 27us/step - loss: 4.9325e-04\n",
      "Epoch 97/100\n",
      "140100/140100 [==============================] - 4s 27us/step - loss: 4.9263e-04\n",
      "Epoch 98/100\n",
      "140100/140100 [==============================] - 4s 27us/step - loss: 4.9232e-04\n",
      "Epoch 99/100\n",
      "140100/140100 [==============================] - 4s 27us/step - loss: 4.9203e-04\n",
      "Epoch 100/100\n",
      "140100/140100 [==============================] - 4s 27us/step - loss: 4.9194e-04\n"
     ]
    },
    {
     "data": {
      "text/plain": [
       "[<matplotlib.lines.Line2D at 0x1ca75eb7f28>]"
      ]
     },
     "execution_count": 128,
     "metadata": {},
     "output_type": "execute_result"
    },
    {
     "data": {
      "image/png": "[encoded data removed]",
      "text/plain": [
       "<Figure size 432x288 with 1 Axes>"
      ]
     },
     "metadata": {},
     "output_type": "display_data"
    }
   ],
   "source": [
    "rnn, hist = train_network(data_in_train, data_out_train, batch_size, epochs=100)\n",
    "plt.plot(hist)"
   ]
  },
  {
   "cell_type": "markdown",
   "metadata": {},
   "source": [
    "### Test"
   ]
  },
  {
   "cell_type": "code",
   "execution_count": 153,
   "metadata": {},
   "outputs": [
    {
     "data": {
      "image/png": "[encoded data removed]",
      "text/plain": [
       "<Figure size 432x288 with 1 Axes>"
      ]
     },
     "metadata": {},
     "output_type": "display_data"
    }
   ],
   "source": [
    "data_out_pred = test_network(data_in_test, data_out_test, rnn, batch_size,'$\\epsilon_1^0$')"
   ]
  },
  {
   "cell_type": "markdown",
   "metadata": {},
   "source": [
    "### Discuss\n",
    "\n",
    "The best published result to date for t+6 prediction is that reported by Gruet et al. 2018, who achieve $R$=0.873 ($R^2$ = 0.762) on data from 2001-2016. This result is certainly an improvement over predicting by taking the last observed Dst value, whose correlation is then the hourly autocorrelation of lag 6 (the full autocorrelation function is shown below for various lags)."
   ]
  },
  {
   "cell_type": "code",
   "execution_count": 142,
   "metadata": {},
   "outputs": [
    {
     "name": "stderr",
     "output_type": "stream",
     "text": [
      "C:\\Users\\Adrian\\.julia\\packages\\Conda\\m7vem\\deps\\usr\\lib\\site-packages\\scipy\\signal\\signaltools.py:491: FutureWarning: Using a non-tuple sequence for multidimensional indexing is deprecated; use `arr[tuple(seq)]` instead of `arr[seq]`. In the future this will be interpreted as an array index, `arr[np.array(seq)]`, which will result either in an error or a different result.\n",
      "  return x[reverse].conj()\n",
      "C:\\Users\\Adrian\\.julia\\packages\\Conda\\m7vem\\deps\\usr\\lib\\site-packages\\mkl_fft\\_numpy_fft.py:1044: FutureWarning: Using a non-tuple sequence for multidimensional indexing is deprecated; use `arr[tuple(seq)]` instead of `arr[seq]`. In the future this will be interpreted as an array index, `arr[np.array(seq)]`, which will result either in an error or a different result.\n",
      "  output = mkl_fft.rfftn_numpy(a, s, axes)\n"
     ]
    },
    {
     "data": {
      "image/png": "[encoded data removed]",
      "text/plain": [
       "<Figure size 432x288 with 1 Axes>"
      ]
     },
     "metadata": {},
     "output_type": "display_data"
    }
   ],
   "source": [
    "dstnorm = (dst-np.mean(dst))/np.std(dst)\n",
    "dstcor = signal.correlate(dstnorm, dstnorm)/len(dstnorm)\n",
    "idx = int(len(dstcor)/2)\n",
    "\n",
    "plt.plot(dstcor[idx:idx+7],'o-')\n",
    "plt.xlabel('lag')\n",
    "plt.ylabel('autocorrelation coefficient')\n",
    "plt.grid(True)"
   ]
  },
  {
   "cell_type": "code",
   "execution_count": 151,
   "metadata": {},
   "outputs": [
    {
     "data": {
      "image/png": "[encoded data removed]",
      "text/plain": [
       "<Figure size 432x288 with 1 Axes>"
      ]
     },
     "metadata": {},
     "output_type": "display_data"
    }
   ],
   "source": [
    "plt.scatter(dst[0:-6], dst[6:], marker='.')\n",
    "abline(1, 0)\n",
    "plt.xlabel('current Dst')\n",
    "plt.ylabel('Dst at t+6')\n",
    "plt.title('Naive Forecasting, $r^2$ = %1.2f' % dstcor[idx+6]**2)\n",
    "\n",
    "plt.show()"
   ]
  },
  {
   "cell_type": "code",
   "execution_count": null,
   "metadata": {},
   "outputs": [],
   "source": [
    "plotcorr(np.concatenate(dst))"
   ]
  },
  {
   "cell_type": "markdown",
   "metadata": {},
   "source": [
    "Previous results tabulated (ADD TABLE) show that all neural networks except Gruet's and Wu & Lundstedt (1997) are unable (for t+6 prediction) to even replicate the results of the most basic prediction, which is to take the current value as a prediction for the value in 6 hours. This approach, as shown by the autocorrelation function, achieves $R$ = 0.804$, so to be considered an improvement over completely ignorant estimation, the neural network needs to achieve a higher correlation coefficient. "
   ]
  },
  {
   "cell_type": "code",
   "execution_count": null,
   "metadata": {},
   "outputs": [],
   "source": [
    "\n",
    "\n",
    "\n"
   ]
  }
 ],
 "metadata": {
  "kernelspec": {
   "display_name": "Python 3",
   "language": "python",
   "name": "python3"
  },
  "language_info": {
   "codemirror_mode": {
    "name": "ipython",
    "version": 3
   },
   "file_extension": ".py",
   "mimetype": "text/x-python",
   "name": "python",
   "nbconvert_exporter": "python",
   "pygments_lexer": "ipython3",
   "version": "3.6.6"
  }
 },
 "nbformat": 4,
 "nbformat_minor": 2
}
