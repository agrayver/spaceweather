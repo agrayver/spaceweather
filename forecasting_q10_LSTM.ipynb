{
 "cells": [
  {
   "cell_type": "markdown",
   "metadata": {},
   "source": [
    "# First Zonal Harmonic Forecasting via LSTM\n",
    "\n",
    "In this notebook, I attempt the most basic prediction for the first zonal harmonic of the external field in response to solar activity. The zonal harmonic, corresponding to the associated Legendre polynomial $P_1^0$, is effectively what is measured by the disturbance storm time (Dst) index, except the data that I am trying to reconstruct record only the external field response, while Dst inadvertently includes the fields generated in Earth's subsurface. "
   ]
  },
  {
   "cell_type": "code",
   "execution_count": 3,
   "metadata": {},
   "outputs": [],
   "source": [
    "# general\n",
    "import numpy as np\n",
    "from sklearn import preprocessing\n",
    "from scipy.stats import kde\n",
    "import os\n",
    "import datetime as dt\n",
    "\n",
    "# deep learning\n",
    "import tensorflow as tf\n",
    "import keras\n",
    "from keras.models import Sequential\n",
    "from keras.layers import Dense, LSTM, GRU, Dropout\n",
    "from aux_keras import *\n",
    "\n",
    "# file management, io\n",
    "import pandas as pd\n",
    "import h5py\n",
    "\n",
    "# plotting\n",
    "import matplotlib.pyplot as plt\n",
    "from matplotlib.ticker import FormatStrFormatter"
   ]
  },
  {
   "cell_type": "markdown",
   "metadata": {},
   "source": [
    "## Load Data\n",
    "\n",
    "Let's load the data without gaps as well as the external coefficients. We'll use the unfiltered coefficients since the filtered coefficients eliminate quite a bit of small scale structure in the time series; in particular many jumps and abrupt changes in the external magnetic field are excessively smoothed and would cause the network to learn unrealistic behaviors."
   ]
  },
  {
   "cell_type": "code",
   "execution_count": 4,
   "metadata": {},
   "outputs": [],
   "source": [
    "omni = pd.read_hdf('omni_hourly_1998-2018_nogaps.h5')\n",
    "coeff = pd.read_hdf('external_coefficients_unfiltered.h5')"
   ]
  },
  {
   "cell_type": "markdown",
   "metadata": {},
   "source": [
    "The external coefficients report hourly values centered on every half hour, starting at 0:30 on January 1, 1999 (UT). The OMNI series, however, are centered on the hour beginning at 0:00 on January 1, 1998, but contain data averaged throughout the subsequent hour (i.e. hour 0 contains data averaged from 0:00-1:00). While the documentation for the OMNI data do not mention this anywhere, they also report the times with respect to universal time UT, so the time formats are the same between the datasets. \n",
    "\n",
    "Thus, both datasets contain data averaged within the same time bins, the bin centers are just denoted differently with the centers at the beginning of the hour for OMNI and at the middle of the hour for the external coefficient series. \n",
    "\n",
    "The OMNI data go until 23:00 December 31, 2018, and the corresponding total number of expected data points is computed below and compared to the observed total number of data points."
   ]
  },
  {
   "cell_type": "code",
   "execution_count": 5,
   "metadata": {},
   "outputs": [
    {
     "name": "stdout",
     "output_type": "stream",
     "text": [
      "Expected number of hours in OMNI data set: 184080\n",
      "Number of hours in OMNI data set: 184080\n"
     ]
    }
   ],
   "source": [
    "hrs_yr = 365*24\n",
    "hrs_yr_lp = 366*24\n",
    "\n",
    "n_yr = 21\n",
    "# 2000, 2004, 2008, 2012, 2016\n",
    "n_lp_yr = 5\n",
    "\n",
    "hrs_OMNI = hrs_yr*(n_yr-n_lp_yr) + hrs_yr_lp*n_lp_yr\n",
    "\n",
    "print('Expected number of hours in OMNI data set: %d' % hrs_OMNI)\n",
    "print('Number of hours in OMNI data set: %d' % len(omni))"
   ]
  },
  {
   "cell_type": "markdown",
   "metadata": {},
   "source": [
    "As the above code computes, the anticipated number of hours in the OMNI data set is 184080, which is precisely what we get. \n",
    "\n",
    "Below, we perform a similar computation for the external coefficients, which span 0:30 January 1, 1999 to 22:30 December 31, 2018. Thus, there should be exactly one year and one hour fewer data points than the OMNI set, since the external coefficients end an hour early in 2018."
   ]
  },
  {
   "cell_type": "code",
   "execution_count": 6,
   "metadata": {},
   "outputs": [
    {
     "name": "stdout",
     "output_type": "stream",
     "text": [
      "Expected number of hours in external coefficients data set: 175319\n",
      "Number of hours in external coefficients data set: 175319\n"
     ]
    }
   ],
   "source": [
    "hrs_offset = hrs_yr + 1\n",
    "hrs_ext_coeff = hrs_OMNI - hrs_offset\n",
    "\n",
    "print('Expected number of hours in external coefficients data set: %d' % hrs_ext_coeff)\n",
    "print('Number of hours in external coefficients data set: %d' % len(coeff))"
   ]
  },
  {
   "cell_type": "markdown",
   "metadata": {},
   "source": [
    "Thus, the relevant parts of OMNI are neglecting 1998 and the last entry of 2018, which I remove below."
   ]
  },
  {
   "cell_type": "code",
   "execution_count": 7,
   "metadata": {},
   "outputs": [],
   "source": [
    "omni = omni[hrs_yr:-1].reset_index(drop=True)\n",
    "dst = omni['Dst-index, nT']\n",
    "q10 = coeff['q10']\n",
    "t = coeff['time'].values\n",
    "t_year = 2000+t/(365.25) # federico's time axis"
   ]
  },
  {
   "cell_type": "markdown",
   "metadata": {},
   "source": [
    "Finally, let's include previous values of the $q_1^0$ series in the input data, adding a column then to omni_lr (for now, ideally I wouldn't need to know previous values to make an accurate prediction). Let's also drop the Dst column (I revisit Dst prediction in the [sister notebook](forecasting_Dst_LSTM.ipynb) to this).\n",
    "\n",
    "Other columns that we'll drop for the moment are:\n",
    "- Kp-index\n",
    "- AL-index\n",
    "- AU-index\n",
    "- AE-index\n",
    "- ap-index\n",
    "\n",
    "since I'm primarily interested in how explicitly physical measurements can be related to predictions of the external field.\n",
    "\n",
    "Let's also do a simplest case forecasting, using only the following columns (at the moment):\n",
    "- $B_z$\n",
    "- SW proton density\n",
    "- SW plasma speed\n",
    "- SW plasma temperature"
   ]
  },
  {
   "cell_type": "code",
   "execution_count": 8,
   "metadata": {},
   "outputs": [],
   "source": [
    "omni = omni.drop(columns=['Dst-index, nT', 'Kp-index', 'AE-index, nT', 'AL-index, nT', 'AU-index, nT', 'ap-index, nT'])\n",
    "\n",
    "#omni = omni[['BZ, nT (GSM)', 'SW Plasma Temperature, K', 'SW Plasma Speed, km/s', 'SW Proton Density, N/cm^3']]\n",
    "omni['q10'] = q10.values\n",
    "\n",
    "nfeatin = len(omni.columns)"
   ]
  },
  {
   "cell_type": "code",
   "execution_count": 9,
   "metadata": {},
   "outputs": [
    {
     "data": {
      "image/png": "[encoded data removed]",
      "text/plain": [
       "<Figure size 576x432 with 1 Axes>"
      ]
     },
     "metadata": {
      "needs_background": "light"
     },
     "output_type": "display_data"
    }
   ],
   "source": [
    "fig, ax = plt.subplots(figsize=(8,6))\n",
    "ax.plot(t_year, q10)\n",
    "ax.set_ylabel('$q_1^0$, nT')\n",
    "ax.set_xlabel('year')\n",
    "ax.xaxis.set_major_formatter(FormatStrFormatter('%d'))\n",
    "plt.grid(True)\n",
    "plt.show()"
   ]
  },
  {
   "cell_type": "markdown",
   "metadata": {},
   "source": [
    "## Compare q10 with Dst\n",
    "\n",
    "Here is a scatter plot of the first zonal coefficient $q_1^0$ compared to Dst, demonstrating their similarities. "
   ]
  },
  {
   "cell_type": "code",
   "execution_count": 270,
   "metadata": {},
   "outputs": [
    {
     "data": {
      "image/png": "[encoded data removed]",
      "text/plain": [
       "<Figure size 432x288 with 1 Axes>"
      ]
     },
     "metadata": {},
     "output_type": "display_data"
    }
   ],
   "source": [
    "r2 = np.corrcoef(dst,q10)[0,1]**2\n",
    "\n",
    "plt.scatter(dst,q10)\n",
    "plt.ylabel('$q_1^0$')\n",
    "plt.xlabel('Dst')\n",
    "plt.title('$r^2$ = %1.2f' % r2)\n",
    "plt.show()"
   ]
  },
  {
   "cell_type": "markdown",
   "metadata": {},
   "source": [
    "The sign convention differs between datasets, but they both record quite similar values, except during the largest storms when $q_1^0$ takes on larger values than Dst."
   ]
  },
  {
   "cell_type": "markdown",
   "metadata": {},
   "source": [
    "## LSTM\n",
    "\n",
    "Having imported the data, let's design, train, and test the LSTM network for this prediction problem. The LSTM specifics are in the [aux_keras.py](aux_keras.py) module, where two basic architectures are elaborated. One is stateless, in which batches of fixed length are fed to the LSTM during training, while another is stateful, with the entire unbroken training series fed into the LSTM, thereby capturing the entire time history of the training data. "
   ]
  },
  {
   "cell_type": "markdown",
   "metadata": {},
   "source": [
    "### Split and Prepare Data\n",
    "\n",
    "Let's separate the data into training and testing sets. Let's also normalize all of the data according to the training data."
   ]
  },
  {
   "cell_type": "code",
   "execution_count": 11,
   "metadata": {},
   "outputs": [],
   "source": [
    "batch_size = 500\n",
    "lahead = 6\n",
    "train_percent = 0.8"
   ]
  },
  {
   "cell_type": "code",
   "execution_count": 12,
   "metadata": {},
   "outputs": [],
   "source": [
    "# split\n",
    "data_in_train, data_out_train, data_in_test, data_out_test = datasplit(omni.values, \\\n",
    "                        q10.values.reshape(-1,1), batch_size, train_percent, lahead, stateful=True)\n",
    "\n",
    "# normalize\n",
    "scaler_input = preprocessing.MinMaxScaler(feature_range=(0,1))\n",
    "data_in_train = scaler_input.fit_transform(data_in_train)\n",
    "data_in_test = scaler_input.transform(data_in_test)\n",
    "\n",
    "scaler_output = preprocessing.MinMaxScaler(feature_range=(0,1))\n",
    "data_out_train = scaler_output.fit_transform(data_out_train)\n",
    "data_out_test = scaler_output.transform(data_out_test)\n",
    "\n",
    "# reshape input data\n",
    "data_in_train = data_in_train.reshape(-1,1,nfeatin)\n",
    "data_in_test = data_in_test.reshape(-1,1,nfeatin)"
   ]
  },
  {
   "cell_type": "code",
   "execution_count": 13,
   "metadata": {},
   "outputs": [
    {
     "name": "stdout",
     "output_type": "stream",
     "text": [
      "Epoch 0, MSE 1.59e-03\n",
      "Epoch 1, MSE 1.41e-03\n",
      "Epoch 2, MSE 1.28e-03\n",
      "Epoch 3, MSE 1.18e-03\n",
      "Epoch 4, MSE 1.08e-03\n",
      "Epoch 5, MSE 9.94e-04\n",
      "Epoch 6, MSE 9.24e-04\n",
      "Epoch 7, MSE 8.65e-04\n",
      "Epoch 8, MSE 8.07e-04\n",
      "Epoch 9, MSE 7.53e-04\n",
      "Epoch 10, MSE 7.06e-04\n",
      "Epoch 11, MSE 6.65e-04\n",
      "Epoch 12, MSE 6.27e-04\n",
      "Epoch 13, MSE 5.94e-04\n",
      "Epoch 14, MSE 5.65e-04\n",
      "Epoch 15, MSE 5.41e-04\n",
      "Epoch 16, MSE 5.19e-04\n",
      "Epoch 17, MSE 5.00e-04\n",
      "Epoch 18, MSE 4.84e-04\n",
      "Epoch 19, MSE 4.70e-04\n",
      "Epoch 20, MSE 4.59e-04\n",
      "Epoch 21, MSE 4.50e-04\n",
      "Epoch 22, MSE 4.42e-04\n",
      "Epoch 23, MSE 4.36e-04\n",
      "Epoch 24, MSE 4.31e-04\n",
      "Epoch 25, MSE 4.27e-04\n",
      "Epoch 26, MSE 4.23e-04\n",
      "Epoch 27, MSE 4.21e-04\n",
      "Epoch 28, MSE 4.18e-04\n",
      "Epoch 29, MSE 4.16e-04\n",
      "Epoch 30, MSE 4.14e-04\n",
      "Epoch 31, MSE 4.12e-04\n",
      "Epoch 32, MSE 4.11e-04\n",
      "Epoch 33, MSE 4.09e-04\n",
      "Epoch 34, MSE 4.07e-04\n",
      "Epoch 35, MSE 4.05e-04\n",
      "Epoch 36, MSE 4.03e-04\n",
      "Epoch 37, MSE 4.02e-04\n",
      "Epoch 38, MSE 4.00e-04\n",
      "Epoch 39, MSE 3.98e-04\n",
      "Epoch 40, MSE 3.96e-04\n",
      "Epoch 41, MSE 3.95e-04\n",
      "Epoch 42, MSE 3.94e-04\n",
      "Epoch 43, MSE 3.92e-04\n",
      "Epoch 44, MSE 3.90e-04\n",
      "Epoch 45, MSE 3.88e-04\n",
      "Epoch 46, MSE 3.86e-04\n",
      "Epoch 47, MSE 3.85e-04\n",
      "Epoch 48, MSE 3.83e-04\n",
      "Epoch 49, MSE 3.81e-04\n",
      "Epoch 50, MSE 3.79e-04\n",
      "Epoch 51, MSE 3.77e-04\n",
      "Epoch 52, MSE 3.75e-04\n",
      "Epoch 53, MSE 3.73e-04\n",
      "Epoch 54, MSE 3.71e-04\n",
      "Epoch 55, MSE 3.70e-04\n",
      "Epoch 56, MSE 3.70e-04\n",
      "Epoch 57, MSE 3.70e-04\n",
      "Epoch 58, MSE 3.69e-04\n",
      "Epoch 59, MSE 3.69e-04\n",
      "Epoch 60, MSE 3.69e-04\n",
      "Epoch 61, MSE 3.68e-04\n",
      "Epoch 62, MSE 3.68e-04\n",
      "Epoch 63, MSE 3.68e-04\n",
      "Epoch 64, MSE 3.68e-04\n",
      "Epoch 65, MSE 3.68e-04\n",
      "Epoch 66, MSE 3.67e-04\n",
      "Epoch 67, MSE 3.67e-04\n",
      "Epoch 68, MSE 3.67e-04\n",
      "Epoch 69, MSE 3.66e-04\n",
      "Epoch 70, MSE 3.66e-04\n",
      "Epoch 71, MSE 3.66e-04\n",
      "Epoch 72, MSE 3.66e-04\n",
      "Epoch 73, MSE 3.65e-04\n",
      "Epoch 74, MSE 3.66e-04\n",
      "Epoch 75, MSE 3.65e-04\n",
      "Epoch 76, MSE 3.65e-04\n",
      "Epoch 77, MSE 3.65e-04\n",
      "Epoch 78, MSE 3.65e-04\n",
      "Epoch 79, MSE 3.64e-04\n",
      "Epoch 80, MSE 3.64e-04\n",
      "Epoch 81, MSE 3.64e-04\n",
      "Epoch 82, MSE 3.64e-04\n",
      "Epoch 83, MSE 3.64e-04\n",
      "Epoch 84, MSE 3.64e-04\n",
      "Epoch 85, MSE 3.64e-04\n",
      "Epoch 86, MSE 3.64e-04\n",
      "Epoch 87, MSE 3.64e-04\n",
      "Epoch 88, MSE 3.64e-04\n",
      "Epoch 89, MSE 3.65e-04\n",
      "Epoch 90, MSE 3.65e-04\n",
      "Epoch 91, MSE 3.65e-04\n",
      "Epoch 92, MSE 3.65e-04\n",
      "Epoch 93, MSE 3.64e-04\n",
      "Epoch 94, MSE 3.64e-04\n",
      "Epoch 95, MSE 3.66e-04\n",
      "Epoch 96, MSE 3.66e-04\n",
      "Epoch 97, MSE 3.66e-04\n",
      "Epoch 98, MSE 3.66e-04\n",
      "Epoch 99, MSE 3.66e-04\n"
     ]
    },
    {
     "data": {
      "text/plain": [
       "[<matplotlib.lines.Line2D at 0x273db8325f8>]"
      ]
     },
     "execution_count": 13,
     "metadata": {},
     "output_type": "execute_result"
    },
    {
     "data": {
      "image/png": "[encoded data removed]",
      "text/plain": [
       "<Figure size 432x288 with 1 Axes>"
      ]
     },
     "metadata": {
      "needs_background": "light"
     },
     "output_type": "display_data"
    }
   ],
   "source": [
    "rnn, hist = train_network(data_in_train, data_out_train, batch_size, epochs=100, stateful=True)\n",
    "plt.plot(hist)"
   ]
  },
  {
   "cell_type": "markdown",
   "metadata": {},
   "source": [
    "### Test"
   ]
  },
  {
   "cell_type": "code",
   "execution_count": 14,
   "metadata": {},
   "outputs": [
    {
     "data": {
      "image/png": "[encoded data removed]",
      "text/plain": [
       "<Figure size 432x288 with 1 Axes>"
      ]
     },
     "metadata": {
      "needs_background": "light"
     },
     "output_type": "display_data"
    }
   ],
   "source": [
    "data_out_pred = test_network(data_in_test, data_out_test, rnn, batch_size,'$\\epsilon_1^0$', scaler_output)"
   ]
  },
  {
   "cell_type": "code",
   "execution_count": null,
   "metadata": {},
   "outputs": [],
   "source": []
  }
 ],
 "metadata": {
  "kernelspec": {
   "display_name": "Python 3",
   "language": "python",
   "name": "python3"
  },
  "language_info": {
   "codemirror_mode": {
    "name": "ipython",
    "version": 3
   },
   "file_extension": ".py",
   "mimetype": "text/x-python",
   "name": "python",
   "nbconvert_exporter": "python",
   "pygments_lexer": "ipython3",
   "version": "3.6.5"
  }
 },
 "nbformat": 4,
 "nbformat_minor": 2
}
