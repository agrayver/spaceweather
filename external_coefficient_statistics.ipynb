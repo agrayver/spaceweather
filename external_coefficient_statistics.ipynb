{
 "cells": [
  {
   "cell_type": "markdown",
   "metadata": {},
   "source": [
    "# External Coefficient Statistics\n",
    "\n",
    "Author: Adrian Tasistro-Hart"
   ]
  },
  {
   "cell_type": "markdown",
   "metadata": {},
   "source": [
    "## Introduction\n",
    "\n",
    "This notebook attempts to explore the statistical structure of the external coefficient data. The goal is to be able to characterize conditional distributions over the coefficients to make sure that I parameterize the probabilistic outputs of the neural network predictions appropriately. That is, the probabilistic neural networks are learning to parameterize output distributions, but the family of suitable output distributions is poorly motivated."
   ]
  },
  {
   "cell_type": "code",
   "execution_count": 1,
   "metadata": {},
   "outputs": [],
   "source": [
    "import numpy as np\n",
    "import pandas as pd\n",
    "import matplotlib.pyplot as plt"
   ]
  },
  {
   "cell_type": "code",
   "execution_count": 2,
   "metadata": {},
   "outputs": [],
   "source": [
    "coeff = pd.read_hdf('external_coefficients.h5')"
   ]
  },
  {
   "cell_type": "code",
   "execution_count": 3,
   "metadata": {},
   "outputs": [
    {
     "data": {
      "text/plain": [
       "(array([3.6310e+03, 1.6067e+05, 1.0017e+04, 7.6700e+02, 1.4300e+02,\n",
       "        5.1000e+01, 2.6000e+01, 7.0000e+00, 4.0000e+00, 3.0000e+00]),\n",
       " array([-69.09881719, -23.16522765,  22.76836188,  68.70195141,\n",
       "        114.63554094, 160.56913047, 206.50272   , 252.43630953,\n",
       "        298.36989907, 344.3034886 , 390.23707813]),\n",
       " <a list of 10 Patch objects>)"
      ]
     },
     "execution_count": 3,
     "metadata": {},
     "output_type": "execute_result"
    },
    {
     "data": {
      "image/png": "[encoded data removed]",
      "text/plain": [
       "<Figure size 432x288 with 1 Axes>"
      ]
     },
     "metadata": {},
     "output_type": "display_data"
    }
   ],
   "source": [
    "plt.hist(coeff['q10'])"
   ]
  },
  {
   "cell_type": "code",
   "execution_count": null,
   "metadata": {},
   "outputs": [],
   "source": []
  }
 ],
 "metadata": {
  "kernelspec": {
   "display_name": "Python 3",
   "language": "python",
   "name": "python3"
  },
  "language_info": {
   "codemirror_mode": {
    "name": "ipython",
    "version": 3
   },
   "file_extension": ".py",
   "mimetype": "text/x-python",
   "name": "python",
   "nbconvert_exporter": "python",
   "pygments_lexer": "ipython3",
   "version": "3.6.5"
  }
 },
 "nbformat": 4,
 "nbformat_minor": 2
}
